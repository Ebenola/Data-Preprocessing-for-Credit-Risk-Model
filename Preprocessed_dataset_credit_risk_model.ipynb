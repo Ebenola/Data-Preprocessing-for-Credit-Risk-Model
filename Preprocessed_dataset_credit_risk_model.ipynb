{
 "cells": [
  {
   "cell_type": "code",
   "execution_count": 3,
   "id": "5aec0b9a",
   "metadata": {},
   "outputs": [],
   "source": [
    "# Task: Create a credit risk model, which estimates the probability of default for every personal account\n",
    "# Take the raw dataset and prepare it for the model planned to be run\n",
    "# The goal is to obtain a clean and preprocessed dataset"
   ]
  },
  {
   "cell_type": "code",
   "execution_count": 4,
   "id": "6c74f261",
   "metadata": {},
   "outputs": [],
   "source": [
    "# Step 1: Changing the currency of the dataset from Dollars to Euros\n",
    "# Step 2: Every categorical variable must be quantified; change any text columns into numbers\n",
    "# There is need to be extremely risk-averse and distrustful; hence missing information suggests foul play for this loan app\n",
    "# The loan information is from a csv file called loan-data.csv"
   ]
  },
  {
   "cell_type": "code",
   "execution_count": 5,
   "id": "fc755a65",
   "metadata": {},
   "outputs": [],
   "source": [
    "# Open the file with a text editor like Notepad ++ to know the delimiter of the dataset\n",
    "# Examining the file, the rows can be referred to as Accounts, Candidates, or Application"
   ]
  },
  {
   "cell_type": "code",
   "execution_count": 6,
   "id": "faa915e8",
   "metadata": {},
   "outputs": [],
   "source": [
    "# First, import numpy\n",
    "import numpy as np"
   ]
  },
  {
   "cell_type": "code",
   "execution_count": 7,
   "id": "01719cf8",
   "metadata": {},
   "outputs": [],
   "source": [
    "# Use this print_options to improve the way the output is shown on the screen.\n",
    "# The 'suppress = True' argument will stop numpy from using scientific notations to represent numbers\n",
    "# Precision = 2 will display only the first 2 digits after the decimal\n",
    "np.set_printoptions(suppress = True, linewidth = 100, precision = 2)"
   ]
  },
  {
   "cell_type": "code",
   "execution_count": 8,
   "id": "fec9d2d7",
   "metadata": {},
   "outputs": [
    {
     "data": {
      "text/plain": [
       "array([[48010226.  ,         nan,    35000.  , ...,         nan,         nan,     9452.96],\n",
       "       [57693261.  ,         nan,    30000.  , ...,         nan,         nan,     4679.7 ],\n",
       "       [59432726.  ,         nan,    15000.  , ...,         nan,         nan,     1969.83],\n",
       "       ...,\n",
       "       [50415990.  ,         nan,    10000.  , ...,         nan,         nan,     2185.64],\n",
       "       [46154151.  ,         nan,         nan, ...,         nan,         nan,     3199.4 ],\n",
       "       [66055249.  ,         nan,    10000.  , ...,         nan,         nan,      301.9 ]])"
      ]
     },
     "execution_count": 8,
     "metadata": {},
     "output_type": "execute_result"
    }
   ],
   "source": [
    "# Storing the whole data into a variable called raw_data_np\n",
    "# First use np.loadtxt; there are missing values if it return error message, then use np.genfromtxt\n",
    "# Apply remove_header since the first row is not a number (nan)\n",
    "# Set autostrip = True to remove excess white space which can distort the columns\n",
    "raw_data_np = np.genfromtxt(\"loan-data.csv\", delimiter = ';',\n",
    "                            skip_header =1, autostrip = True)\n",
    "raw_data_np"
   ]
  },
  {
   "cell_type": "code",
   "execution_count": 9,
   "id": "e0461bd1",
   "metadata": {},
   "outputs": [
    {
     "data": {
      "text/plain": [
       "88005"
      ]
     },
     "execution_count": 9,
     "metadata": {},
     "output_type": "execute_result"
    }
   ],
   "source": [
    "# Checking for missing elements (incomplete data)\n",
    "np.isnan(raw_data_np).sum()\n",
    "\n",
    "# The output showed there are 88,005 missing elements in the dataset"
   ]
  },
  {
   "cell_type": "code",
   "execution_count": 10,
   "id": "274349cc",
   "metadata": {},
   "outputs": [
    {
     "name": "stderr",
     "output_type": "stream",
     "text": [
      "C:\\Users\\hp pc\\AppData\\Local\\Temp\\ipykernel_4900\\3938352329.py:4: RuntimeWarning: Mean of empty slice\n",
      "  temporary_mean = np.nanmean(raw_data_np, axis = 0)\n"
     ]
    }
   ],
   "source": [
    "# Create two temporary variables: temporary_fill and temporary_mean (mean for every column)\n",
    "# The maximum variable in the dataset will form the temporary_fill\n",
    "temporary_fill = np.nanmax(raw_data_np) + 1\n",
    "temporary_mean = np.nanmean(raw_data_np, axis = 0)\n",
    "\n",
    "# Note: The warning in the output showed we might be overlooking something (some columns contain text data)"
   ]
  },
  {
   "cell_type": "code",
   "execution_count": 11,
   "id": "4ec96ed8",
   "metadata": {},
   "outputs": [
    {
     "data": {
      "text/plain": [
       "array([54015809.19,         nan,    15273.46,         nan,    15311.04,         nan,       16.62,\n",
       "            440.92,         nan,         nan,         nan,         nan,         nan,     3143.85])"
      ]
     },
     "execution_count": 11,
     "metadata": {},
     "output_type": "execute_result"
    }
   ],
   "source": [
    "# Computing the temporary_mean showed 8 columns contain strings\n",
    "temporary_mean "
   ]
  },
  {
   "cell_type": "code",
   "execution_count": 12,
   "id": "a9538b02",
   "metadata": {},
   "outputs": [
    {
     "name": "stderr",
     "output_type": "stream",
     "text": [
      "C:\\Users\\hp pc\\AppData\\Local\\Temp\\ipykernel_4900\\876191102.py:6: RuntimeWarning: All-NaN slice encountered\n",
      "  temporary_stats =np.array([np.nanmin(raw_data_np, axis = 0), temporary_mean, np.nanmax(raw_data_np, axis = 0) ])\n"
     ]
    }
   ],
   "source": [
    "# Split the dataset into 2; one containing the numeric values, and the other strings\n",
    "# Before that, extract the minimum and the maximum values for each column in the dataset\n",
    "\n",
    "# Create a list\n",
    "\n",
    "temporary_stats =np.array([np.nanmin(raw_data_np, axis = 0), temporary_mean, np.nanmax(raw_data_np, axis = 0) ])\n",
    "\n",
    "# The 2 warnigs in the output indicates we are plugging in empty slices. Note they are texts and not empty"
   ]
  },
  {
   "cell_type": "code",
   "execution_count": 13,
   "id": "0bff3672",
   "metadata": {},
   "outputs": [
    {
     "data": {
      "text/plain": [
       "array([[  373332.  ,         nan,     1000.  ,         nan,     1000.  ,         nan,        6.  ,\n",
       "              31.42,         nan,         nan,         nan,         nan,         nan,        0.  ],\n",
       "       [54015809.19,         nan,    15273.46,         nan,    15311.04,         nan,       16.62,\n",
       "             440.92,         nan,         nan,         nan,         nan,         nan,     3143.85],\n",
       "       [68616519.  ,         nan,    35000.  ,         nan,    35000.  ,         nan,       28.99,\n",
       "            1372.97,         nan,         nan,         nan,         nan,         nan,    41913.62]])"
      ]
     },
     "execution_count": 13,
     "metadata": {},
     "output_type": "execute_result"
    }
   ],
   "source": [
    "temporary_stats\n",
    "# The output consists of a 2D array that holds three 1-D array stacked on top of each other\n",
    "# The order is min, mean, and max"
   ]
  },
  {
   "cell_type": "code",
   "execution_count": 14,
   "id": "75c2de39",
   "metadata": {},
   "outputs": [
    {
     "data": {
      "text/plain": [
       "array([ 1,  3,  5,  8,  9, 10, 11, 12], dtype=int64)"
      ]
     },
     "execution_count": 14,
     "metadata": {},
     "output_type": "execute_result"
    }
   ],
   "source": [
    "# Splitting the dataset into numeric and strings\n",
    "# Identifying columns with strings\n",
    "columns_strings = np.argwhere(np.isnan(temporary_mean)).squeeze()\n",
    "columns_strings"
   ]
  },
  {
   "cell_type": "code",
   "execution_count": 15,
   "id": "b71e4d49",
   "metadata": {},
   "outputs": [
    {
     "data": {
      "text/plain": [
       "array([ 0,  2,  4,  6,  7, 13], dtype=int64)"
      ]
     },
     "execution_count": 15,
     "metadata": {},
     "output_type": "execute_result"
    }
   ],
   "source": [
    "# Identifying columns with numeriacal values\n",
    "columns_numeric = np.argwhere(np.isnan(temporary_mean)==False).squeeze()\n",
    "columns_numeric"
   ]
  },
  {
   "cell_type": "code",
   "execution_count": 16,
   "id": "614b81b0",
   "metadata": {},
   "outputs": [
    {
     "name": "stderr",
     "output_type": "stream",
     "text": [
      "C:\\Users\\hp pc\\AppData\\Local\\Temp\\ipykernel_4900\\3968442672.py:7: DeprecationWarning: `np.str` is a deprecated alias for the builtin `str`. To silence this warning, use `str` by itself. Doing this will not modify any behavior and is safe. If you specifically wanted the numpy scalar type, use `np.str_` here.\n",
      "Deprecated in NumPy 1.20; for more details and guidance: https://numpy.org/devdocs/release/1.20.0-notes.html#deprecations\n",
      "  dtype = np.str)\n"
     ]
    },
    {
     "data": {
      "text/plain": [
       "array([['May-15', 'Current', '36 months', ..., 'Verified',\n",
       "        'https://www.lendingclub.com/browse/loanDetail.action?loan_id=48010226', 'CA'],\n",
       "       ['', 'Current', '36 months', ..., 'Source Verified',\n",
       "        'https://www.lendingclub.com/browse/loanDetail.action?loan_id=57693261', 'NY'],\n",
       "       ['Sep-15', 'Current', '36 months', ..., 'Verified',\n",
       "        'https://www.lendingclub.com/browse/loanDetail.action?loan_id=59432726', 'PA'],\n",
       "       ...,\n",
       "       ['Jun-15', 'Current', '36 months', ..., 'Source Verified',\n",
       "        'https://www.lendingclub.com/browse/loanDetail.action?loan_id=50415990', 'CA'],\n",
       "       ['Apr-15', 'Current', '36 months', ..., 'Source Verified',\n",
       "        'https://www.lendingclub.com/browse/loanDetail.action?loan_id=46154151', 'OH'],\n",
       "       ['Dec-15', 'Current', '36 months', ..., '',\n",
       "        'https://www.lendingclub.com/browse/loanDetail.action?loan_id=66055249', 'IL']],\n",
       "      dtype='<U69')"
      ]
     },
     "execution_count": 16,
     "metadata": {},
     "output_type": "execute_result"
    }
   ],
   "source": [
    "# Re-import the original dataset as 2 seperate arrays using usecols\n",
    "loan_data_strings = np.genfromtxt(\"loan-data.csv\", \n",
    "                                  delimiter = ';',\n",
    "                                  skip_header =1,\n",
    "                                  autostrip = True,\n",
    "                                  usecols = columns_strings,\n",
    "                                  dtype = np.str)\n",
    "loan_data_strings\n"
   ]
  },
  {
   "cell_type": "code",
   "execution_count": 17,
   "id": "c8d2eb18",
   "metadata": {},
   "outputs": [
    {
     "data": {
      "text/plain": [
       "array([[48010226.  ,    35000.  ,    35000.  ,       13.33,     1184.86,     9452.96],\n",
       "       [57693261.  ,    30000.  ,    30000.  , 68616520.  ,      938.57,     4679.7 ],\n",
       "       [59432726.  ,    15000.  ,    15000.  , 68616520.  ,      494.86,     1969.83],\n",
       "       ...,\n",
       "       [50415990.  ,    10000.  ,    10000.  , 68616520.  , 68616520.  ,     2185.64],\n",
       "       [46154151.  , 68616520.  ,    10000.  ,       16.55,      354.3 ,     3199.4 ],\n",
       "       [66055249.  ,    10000.  ,    10000.  , 68616520.  ,      309.97,      301.9 ]])"
      ]
     },
     "execution_count": 17,
     "metadata": {},
     "output_type": "execute_result"
    }
   ],
   "source": [
    "# Use the temporary_fill computed earlier as filling_values for the missing data\n",
    "loan_data_numeric = np.genfromtxt(\"loan-data.csv\", \n",
    "                                  delimiter = ';',\n",
    "                                  skip_header =1,\n",
    "                                  autostrip = True,\n",
    "                                  usecols = columns_numeric,\n",
    "                                  filling_values = temporary_fill)\n",
    "loan_data_numeric"
   ]
  },
  {
   "cell_type": "code",
   "execution_count": 18,
   "id": "273841c5",
   "metadata": {},
   "outputs": [
    {
     "name": "stderr",
     "output_type": "stream",
     "text": [
      "C:\\Users\\hp pc\\AppData\\Local\\Temp\\ipykernel_4900\\1013414701.py:7: DeprecationWarning: `np.str` is a deprecated alias for the builtin `str`. To silence this warning, use `str` by itself. Doing this will not modify any behavior and is safe. If you specifically wanted the numpy scalar type, use `np.str_` here.\n",
      "Deprecated in NumPy 1.20; for more details and guidance: https://numpy.org/devdocs/release/1.20.0-notes.html#deprecations\n",
      "  dtype = np.str)\n"
     ]
    },
    {
     "data": {
      "text/plain": [
       "array(['id', 'issue_d', 'loan_amnt', 'loan_status', 'funded_amnt', 'term', 'int_rate',\n",
       "       'installment', 'grade', 'sub_grade', 'verification_status', 'url', 'addr_state',\n",
       "       'total_pymnt'], dtype='<U19')"
      ]
     },
     "execution_count": 18,
     "metadata": {},
     "output_type": "execute_result"
    }
   ],
   "source": [
    "# Before working on the contents of the table, store the headers of each column in order not to lose track of the info stored on each column\n",
    "# Set skip_footer to the number of rows in raw_data_np\n",
    "header_full = np.genfromtxt(\"loan-data.csv\", \n",
    "                                  delimiter = ';',\n",
    "                                  skip_footer = raw_data_np.shape[0],\n",
    "                                  autostrip = True,\n",
    "                                  dtype = np.str)\n",
    "header_full"
   ]
  },
  {
   "cell_type": "code",
   "execution_count": 19,
   "id": "a9715aea",
   "metadata": {},
   "outputs": [],
   "source": [
    "# Put the headers into 2 variables; each one holding the names of the column which contains string data or numeric data\n",
    "# It will create two new variables which will serve as headers\n",
    "header_strings, header_numeric = header_full[columns_strings], header_full[columns_numeric]"
   ]
  },
  {
   "cell_type": "code",
   "execution_count": 20,
   "id": "f1bc6d6f",
   "metadata": {},
   "outputs": [
    {
     "data": {
      "text/plain": [
       "array(['issue_d', 'loan_status', 'term', 'grade', 'sub_grade', 'verification_status', 'url',\n",
       "       'addr_state'], dtype='<U19')"
      ]
     },
     "execution_count": 20,
     "metadata": {},
     "output_type": "execute_result"
    }
   ],
   "source": [
    "header_strings"
   ]
  },
  {
   "cell_type": "code",
   "execution_count": 21,
   "id": "cc7060ec",
   "metadata": {},
   "outputs": [
    {
     "data": {
      "text/plain": [
       "array(['id', 'loan_amnt', 'funded_amnt', 'int_rate', 'installment', 'total_pymnt'], dtype='<U19')"
      ]
     },
     "execution_count": 21,
     "metadata": {},
     "output_type": "execute_result"
    }
   ],
   "source": [
    "header_numeric"
   ]
  },
  {
   "cell_type": "code",
   "execution_count": 22,
   "id": "e78d58da",
   "metadata": {},
   "outputs": [],
   "source": [
    "# Create checkpoints\n",
    "# Checkpoints are places throughout our code where we store a copy of our dataset (or only part of it)\n",
    "# This is to avoid losing a lot of progress if we accidentally override the variables we've been working with\n",
    "# It is a failsafe we can rely on"
   ]
  },
  {
   "cell_type": "code",
   "execution_count": 23,
   "id": "21481363",
   "metadata": {},
   "outputs": [],
   "source": [
    "def checkpoint(file_name, checkpoint_header, checkpoint_data):\n",
    "    np.savez(file_name, header = checkpoint_header, data = checkpoint_data)\n",
    "    checkpoint_variable = np.load(file_name + \".npz\")\n",
    "    return (checkpoint_variable)"
   ]
  },
  {
   "cell_type": "code",
   "execution_count": 24,
   "id": "2c266d2f",
   "metadata": {},
   "outputs": [],
   "source": [
    "checkpoint_test = checkpoint(\"checkpoint_test\", header_strings, loan_data_strings)"
   ]
  },
  {
   "cell_type": "code",
   "execution_count": 25,
   "id": "16470f39",
   "metadata": {},
   "outputs": [
    {
     "data": {
      "text/plain": [
       "array([['May-15', 'Current', '36 months', ..., 'Verified',\n",
       "        'https://www.lendingclub.com/browse/loanDetail.action?loan_id=48010226', 'CA'],\n",
       "       ['', 'Current', '36 months', ..., 'Source Verified',\n",
       "        'https://www.lendingclub.com/browse/loanDetail.action?loan_id=57693261', 'NY'],\n",
       "       ['Sep-15', 'Current', '36 months', ..., 'Verified',\n",
       "        'https://www.lendingclub.com/browse/loanDetail.action?loan_id=59432726', 'PA'],\n",
       "       ...,\n",
       "       ['Jun-15', 'Current', '36 months', ..., 'Source Verified',\n",
       "        'https://www.lendingclub.com/browse/loanDetail.action?loan_id=50415990', 'CA'],\n",
       "       ['Apr-15', 'Current', '36 months', ..., 'Source Verified',\n",
       "        'https://www.lendingclub.com/browse/loanDetail.action?loan_id=46154151', 'OH'],\n",
       "       ['Dec-15', 'Current', '36 months', ..., '',\n",
       "        'https://www.lendingclub.com/browse/loanDetail.action?loan_id=66055249', 'IL']],\n",
       "      dtype='<U69')"
      ]
     },
     "execution_count": 25,
     "metadata": {},
     "output_type": "execute_result"
    }
   ],
   "source": [
    "checkpoint_test['data']"
   ]
  },
  {
   "cell_type": "code",
   "execution_count": 26,
   "id": "46aeaa29",
   "metadata": {},
   "outputs": [
    {
     "data": {
      "text/plain": [
       "True"
      ]
     },
     "execution_count": 26,
     "metadata": {},
     "output_type": "execute_result"
    }
   ],
   "source": [
    "# Checking if checkpoint variables are equal to the earlier variables, use the equal function\n",
    "np.array_equal(checkpoint_test['data'], loan_data_strings)"
   ]
  },
  {
   "cell_type": "code",
   "execution_count": 27,
   "id": "035bc703",
   "metadata": {},
   "outputs": [
    {
     "data": {
      "text/plain": [
       "array(['Issue_date', 'loan_status', 'term', 'grade', 'sub_grade', 'verification_status', 'url',\n",
       "       'addr_state'], dtype='<U19')"
      ]
     },
     "execution_count": 27,
     "metadata": {},
     "output_type": "execute_result"
    }
   ],
   "source": [
    "# Rename the first header from 'Issue_d' to 'Issue_date' to be more descriptive \n",
    "header_strings[0] = \"Issue_date\"\n",
    "header_strings"
   ]
  },
  {
   "cell_type": "code",
   "execution_count": 28,
   "id": "282aa96f",
   "metadata": {},
   "outputs": [
    {
     "data": {
      "text/plain": [
       "array(['May-15', '', 'Sep-15', ..., 'Jun-15', 'Apr-15', 'Dec-15'], dtype='<U69')"
      ]
     },
     "execution_count": 28,
     "metadata": {},
     "output_type": "execute_result"
    }
   ],
   "source": [
    "#The output showed a pattern: all months are represented by 3 alphabets, and all are in 2015\n",
    "loan_data_strings[:,0]"
   ]
  },
  {
   "cell_type": "code",
   "execution_count": 29,
   "id": "b0972b3a",
   "metadata": {},
   "outputs": [
    {
     "data": {
      "text/plain": [
       "array(['', 'Apr-15', 'Aug-15', 'Dec-15', 'Feb-15', 'Jan-15', 'Jul-15', 'Jun-15', 'Mar-15',\n",
       "       'May-15', 'Nov-15', 'Oct-15', 'Sep-15'], dtype='<U69')"
      ]
     },
     "execution_count": 29,
     "metadata": {},
     "output_type": "execute_result"
    }
   ],
   "source": [
    "# Check if the pattern cut across all variables in the columns\n",
    "np.unique(loan_data_strings[:,0])\n",
    "\n",
    "#The output showed similar pattern, and there is a missing data before April-15"
   ]
  },
  {
   "cell_type": "code",
   "execution_count": 30,
   "id": "abbc87e7",
   "metadata": {},
   "outputs": [],
   "source": [
    "# Remove -15 since its common across the column\n",
    "loan_data_strings[:,0] = np.chararray.strip(loan_data_strings[:,0], \"-15\")"
   ]
  },
  {
   "cell_type": "code",
   "execution_count": 31,
   "id": "764705a7",
   "metadata": {},
   "outputs": [
    {
     "data": {
      "text/plain": [
       "array(['', 'Apr', 'Aug', 'Dec', 'Feb', 'Jan', 'Jul', 'Jun', 'Mar', 'May', 'Nov', 'Oct', 'Sep'],\n",
       "      dtype='<U69')"
      ]
     },
     "execution_count": 31,
     "metadata": {},
     "output_type": "execute_result"
    }
   ],
   "source": [
    "# Check again to confirm its not containing the year\n",
    "# This results in using less memory\n",
    "np.unique(loan_data_strings[:,0])"
   ]
  },
  {
   "cell_type": "code",
   "execution_count": 32,
   "id": "4c2df0c7",
   "metadata": {},
   "outputs": [],
   "source": [
    "# Store the months values as integers to achieve usage of less memory\n",
    "# create an array to show all the months including the missing value\n",
    "months = np.array(['', 'Jan', 'Feb', 'Mar', 'Apr', 'May', 'Jun', 'Jul', 'Aug', 'Sep', 'Oct', 'Nov', 'Dec'])"
   ]
  },
  {
   "cell_type": "code",
   "execution_count": 33,
   "id": "68ebd0d2",
   "metadata": {},
   "outputs": [],
   "source": [
    "# Then set Jan for 1, Feb for 2, etc\n",
    "for i in range(13):\n",
    "    loan_data_strings[:,0] = np.where(loan_data_strings[:,0]== months[i], i, loan_data_strings[:,0])"
   ]
  },
  {
   "cell_type": "code",
   "execution_count": 34,
   "id": "685a4e0c",
   "metadata": {},
   "outputs": [
    {
     "data": {
      "text/plain": [
       "array(['0', '1', '10', '11', '12', '2', '3', '4', '5', '6', '7', '8', '9'], dtype='<U69')"
      ]
     },
     "execution_count": 34,
     "metadata": {},
     "output_type": "execute_result"
    }
   ],
   "source": [
    "# Check again if there are no longer empty space\n",
    "np.unique(loan_data_strings[:,0])"
   ]
  },
  {
   "cell_type": "code",
   "execution_count": 35,
   "id": "77232440",
   "metadata": {},
   "outputs": [
    {
     "data": {
      "text/plain": [
       "array(['Issue_date', 'loan_status', 'term', 'grade', 'sub_grade', 'verification_status', 'url',\n",
       "       'addr_state'], dtype='<U19')"
      ]
     },
     "execution_count": 35,
     "metadata": {},
     "output_type": "execute_result"
    }
   ],
   "source": [
    "# Display header_string again to check all the columns heading\n",
    "header_strings"
   ]
  },
  {
   "cell_type": "code",
   "execution_count": 36,
   "id": "96c48e19",
   "metadata": {},
   "outputs": [
    {
     "data": {
      "text/plain": [
       "array(['0', 'Current', '36 months', 'A', 'A5', 'Source Verified',\n",
       "       'https://www.lendingclub.com/browse/loanDetail.action?loan_id=57693261', 'NY'], dtype='<U69')"
      ]
     },
     "execution_count": 36,
     "metadata": {},
     "output_type": "execute_result"
    }
   ],
   "source": [
    "# The next column is loan_status\n",
    "loan_data_strings[1]"
   ]
  },
  {
   "cell_type": "code",
   "execution_count": 37,
   "id": "6f6fe00e",
   "metadata": {},
   "outputs": [
    {
     "data": {
      "text/plain": [
       "array(['', 'Charged Off', 'Current', 'Default', 'Fully Paid', 'In Grace Period', 'Issued',\n",
       "       'Late (16-30 days)', 'Late (31-120 days)'], dtype='<U69')"
      ]
     },
     "execution_count": 37,
     "metadata": {},
     "output_type": "execute_result"
    }
   ],
   "source": [
    "# Check the values in the columns\n",
    "np.unique(loan_data_strings[:,1])"
   ]
  },
  {
   "cell_type": "code",
   "execution_count": 38,
   "id": "5bb09046",
   "metadata": {},
   "outputs": [
    {
     "data": {
      "text/plain": [
       "9"
      ]
     },
     "execution_count": 38,
     "metadata": {},
     "output_type": "execute_result"
    }
   ],
   "source": [
    "# Call the size attribute of the array to get the number of unique elements in the column\n",
    "np.unique(loan_data_strings[:,1]).size"
   ]
  },
  {
   "cell_type": "code",
   "execution_count": 39,
   "id": "6cbc07bb",
   "metadata": {},
   "outputs": [],
   "source": [
    "# We can use np.where() to assign a different number to each of the 9 status but regressions only care if the candidate is in a stable financial condition\n",
    "# Hence split all possible values into either 'good' or 'bad'\n",
    "# Acccounts with 'Current', 'Fully Paid', 'In Grace Period', and 'Issued' will be grouped as 'Good'\n",
    "# 'Charged Off', empty '', and 'Default' will be grouped into 'Bad'\n",
    "# Short period latency 'Late (16 - 30 days)'' will be grouped as 'Good' while longer period (31 - 120 days) is 'Bad'\n",
    "# 1 will be used to represent 'Good' and 0 for 'Bad'"
   ]
  },
  {
   "cell_type": "code",
   "execution_count": 40,
   "id": "1d525828",
   "metadata": {},
   "outputs": [],
   "source": [
    "status_bad = np.array(['', 'Charged Off', 'Default', 'Late (31-120 days)'])"
   ]
  },
  {
   "cell_type": "code",
   "execution_count": 41,
   "id": "971a8341",
   "metadata": {},
   "outputs": [],
   "source": [
    "loan_data_strings[:,1] = np.where(np.isin(loan_data_strings[:,1], status_bad), 0,1)"
   ]
  },
  {
   "cell_type": "code",
   "execution_count": 42,
   "id": "f9fce3c6",
   "metadata": {},
   "outputs": [
    {
     "data": {
      "text/plain": [
       "array(['0', '1'], dtype='<U69')"
      ]
     },
     "execution_count": 42,
     "metadata": {},
     "output_type": "execute_result"
    }
   ],
   "source": [
    "# To check if the number 0 and 1 have been properly assigned \n",
    "np.unique(loan_data_strings[:,1])"
   ]
  },
  {
   "cell_type": "code",
   "execution_count": 43,
   "id": "b2376238",
   "metadata": {},
   "outputs": [
    {
     "data": {
      "text/plain": [
       "array(['Issue_date', 'loan_status', 'term', 'grade', 'sub_grade', 'verification_status', 'url',\n",
       "       'addr_state'], dtype='<U19')"
      ]
     },
     "execution_count": 43,
     "metadata": {},
     "output_type": "execute_result"
    }
   ],
   "source": [
    "# Check the next column header\n",
    "header_strings\n"
   ]
  },
  {
   "cell_type": "code",
   "execution_count": 44,
   "id": "824b7785",
   "metadata": {},
   "outputs": [
    {
     "data": {
      "text/plain": [
       "array(['36 months', '36 months', '36 months', ..., '36 months', '36 months', '36 months'],\n",
       "      dtype='<U69')"
      ]
     },
     "execution_count": 44,
     "metadata": {},
     "output_type": "execute_result"
    }
   ],
   "source": [
    "loan_data_strings[:,2]"
   ]
  },
  {
   "cell_type": "code",
   "execution_count": 45,
   "id": "a4d3970b",
   "metadata": {},
   "outputs": [
    {
     "data": {
      "text/plain": [
       "array(['', '36 months', '60 months'], dtype='<U69')"
      ]
     },
     "execution_count": 45,
     "metadata": {},
     "output_type": "execute_result"
    }
   ],
   "source": [
    "np.unique(loan_data_strings[:,2])"
   ]
  },
  {
   "cell_type": "code",
   "execution_count": 51,
   "id": "cf329beb",
   "metadata": {},
   "outputs": [],
   "source": [
    "# Strip the 'months' since its common\n",
    "loan_data_strings[:,2] = np.chararray.strip(loan_data_strings[:,2], \" months\")"
   ]
  },
  {
   "cell_type": "code",
   "execution_count": 52,
   "id": "261778bf",
   "metadata": {},
   "outputs": [
    {
     "data": {
      "text/plain": [
       "array(['36', '36', '36', ..., '36', '36', '36'], dtype='<U69')"
      ]
     },
     "execution_count": 52,
     "metadata": {},
     "output_type": "execute_result"
    }
   ],
   "source": [
    "loan_data_strings[:,2]"
   ]
  },
  {
   "cell_type": "code",
   "execution_count": 53,
   "id": "7b4d3e5f",
   "metadata": {},
   "outputs": [],
   "source": [
    "# Change the header name to be more descriptive\n",
    "header_strings[2] = \"term_months\""
   ]
  },
  {
   "cell_type": "code",
   "execution_count": 54,
   "id": "7e4d454d",
   "metadata": {},
   "outputs": [],
   "source": [
    "# Assign 60 to the missing values. 60 is the highest value in the column, hence we assume the worst in cases of missing values\n",
    "loan_data_strings[:,2] = np.where(loan_data_strings[:,2] == '', '60', loan_data_strings[:,2])"
   ]
  },
  {
   "cell_type": "code",
   "execution_count": 55,
   "id": "a3230d40",
   "metadata": {},
   "outputs": [
    {
     "data": {
      "text/plain": [
       "array(['36', '60'], dtype='<U69')"
      ]
     },
     "execution_count": 55,
     "metadata": {},
     "output_type": "execute_result"
    }
   ],
   "source": [
    "# Check the content of the term_month array\n",
    "np.unique(loan_data_strings[:,2])"
   ]
  },
  {
   "cell_type": "code",
   "execution_count": 56,
   "id": "ea0a6ce9",
   "metadata": {},
   "outputs": [],
   "source": [
    "# You can either assign 1 and 0 fro the '36' and '60' or leave it as it is"
   ]
  },
  {
   "cell_type": "code",
   "execution_count": 57,
   "id": "116a982a",
   "metadata": {},
   "outputs": [
    {
     "data": {
      "text/plain": [
       "array(['Issue_date', 'loan_status', 'term_months', 'grade', 'sub_grade', 'verification_status',\n",
       "       'url', 'addr_state'], dtype='<U19')"
      ]
     },
     "execution_count": 57,
     "metadata": {},
     "output_type": "execute_result"
    }
   ],
   "source": [
    "# Check the next header\n",
    "header_strings"
   ]
  },
  {
   "cell_type": "code",
   "execution_count": 58,
   "id": "d47537b6",
   "metadata": {},
   "outputs": [
    {
     "data": {
      "text/plain": [
       "array(['', 'A', 'B', 'C', 'D', 'E', 'F', 'G'], dtype='<U69')"
      ]
     },
     "execution_count": 58,
     "metadata": {},
     "output_type": "execute_result"
    }
   ],
   "source": [
    "np.unique(loan_data_strings[:,3])"
   ]
  },
  {
   "cell_type": "code",
   "execution_count": 59,
   "id": "ad9a44e8",
   "metadata": {},
   "outputs": [
    {
     "data": {
      "text/plain": [
       "array(['', 'A1', 'A2', 'A3', 'A4', 'A5', 'B1', 'B2', 'B3', 'B4', 'B5', 'C1', 'C2', 'C3', 'C4',\n",
       "       'C5', 'D1', 'D2', 'D3', 'D4', 'D5', 'E1', 'E2', 'E3', 'E4', 'E5', 'F1', 'F2', 'F3', 'F4',\n",
       "       'F5', 'G1', 'G2', 'G3', 'G4', 'G5'], dtype='<U69')"
      ]
     },
     "execution_count": 59,
     "metadata": {},
     "output_type": "execute_result"
    }
   ],
   "source": [
    "# We examine column \"sub_grade\" because they look related\n",
    "np.unique(loan_data_strings[:,4])"
   ]
  },
  {
   "cell_type": "code",
   "execution_count": 61,
   "id": "5db4cce7",
   "metadata": {},
   "outputs": [],
   "source": [
    "# For every element in 'Grade' we have five elements in 'sub_grade', hence info in 'grade' column can be obtained from 'sub_grade' column\n",
    "# Use iteration to fill the missing values in 'sub_grade\n",
    "# Assign the worst of sub_grade i.e. 5 to missing values\n",
    "for i in np.unique(loan_data_strings[:,3])[1:] : loan_data_strings[:,4] = np.where((loan_data_strings[:,4] == '')\n",
    "                                                                                   & (loan_data_strings[:,3] == i),\n",
    "                                                                                    i + '5', loan_data_strings[:,4]\n",
    "                                                                                   )"
   ]
  },
  {
   "cell_type": "code",
   "execution_count": 62,
   "id": "d0d88056",
   "metadata": {},
   "outputs": [
    {
     "data": {
      "text/plain": [
       "array(['', 'A1', 'A2', 'A3', 'A4', 'A5', 'B1', 'B2', 'B3', 'B4', 'B5', 'C1', 'C2', 'C3', 'C4',\n",
       "       'C5', 'D1', 'D2', 'D3', 'D4', 'D5', 'E1', 'E2', 'E3', 'E4', 'E5', 'F1', 'F2', 'F3', 'F4',\n",
       "       'F5', 'G1', 'G2', 'G3', 'G4', 'G5'], dtype='<U69')"
      ]
     },
     "execution_count": 62,
     "metadata": {},
     "output_type": "execute_result"
    }
   ],
   "source": [
    "np.unique(loan_data_strings[:,4])"
   ]
  },
  {
   "cell_type": "code",
   "execution_count": 63,
   "id": "82d2398f",
   "metadata": {},
   "outputs": [
    {
     "data": {
      "text/plain": [
       "(array(['', 'A1', 'A2', 'A3', 'A4', 'A5', 'B1', 'B2', 'B3', 'B4', 'B5', 'C1', 'C2', 'C3', 'C4',\n",
       "        'C5', 'D1', 'D2', 'D3', 'D4', 'D5', 'E1', 'E2', 'E3', 'E4', 'E5', 'F1', 'F2', 'F3', 'F4',\n",
       "        'F5', 'G1', 'G2', 'G3', 'G4', 'G5'], dtype='<U69'),\n",
       " array([  9, 285, 278, 239, 323, 592, 509, 517, 530, 553, 633, 629, 567, 586, 564, 577, 391, 267,\n",
       "        250, 255, 288, 235, 162, 171, 139, 160,  94,  52,  34,  43,  24,  19,  10,   3,   7,   5],\n",
       "       dtype=int64))"
      ]
     },
     "execution_count": 63,
     "metadata": {},
     "output_type": "execute_result"
    }
   ],
   "source": [
    "# The output is the same, hence we still have missing data because there are still rows where we have neither the 'sub_grade' nor the 'grade'\n",
    "# Count the number of instances we have the missing value\n",
    "np.unique(loan_data_strings[:,4], return_counts = True) # the result showed 9 instances of missing sub_grades"
   ]
  },
  {
   "cell_type": "code",
   "execution_count": 64,
   "id": "b48973e1",
   "metadata": {},
   "outputs": [],
   "source": [
    "# Create a new category lower than G5 and assign to the missing values\n",
    "loan_data_strings[:,4] = np.where(loan_data_strings[:,4] == '', \"H1\", loan_data_strings[:,4])"
   ]
  },
  {
   "cell_type": "code",
   "execution_count": 66,
   "id": "20b714d6",
   "metadata": {},
   "outputs": [
    {
     "data": {
      "text/plain": [
       "array(['A1', 'A2', 'A3', 'A4', 'A5', 'B1', 'B2', 'B3', 'B4', 'B5', 'C1', 'C2', 'C3', 'C4', 'C5',\n",
       "       'D1', 'D2', 'D3', 'D4', 'D5', 'E1', 'E2', 'E3', 'E4', 'E5', 'F1', 'F2', 'F3', 'F4', 'F5',\n",
       "       'G1', 'G2', 'G3', 'G4', 'G5', 'H1'], dtype='<U69')"
      ]
     },
     "execution_count": 66,
     "metadata": {},
     "output_type": "execute_result"
    }
   ],
   "source": [
    "np.unique(loan_data_strings[:,4])"
   ]
  },
  {
   "cell_type": "code",
   "execution_count": 67,
   "id": "76a5a694",
   "metadata": {},
   "outputs": [],
   "source": [
    "# We no longer need the 'grade' column since all info can be found in 'sub_grade', hence delete 'grade' column\n",
    "loan_data_strings = np.delete(loan_data_strings, 3, axis = 1)"
   ]
  },
  {
   "cell_type": "code",
   "execution_count": 68,
   "id": "319470ea",
   "metadata": {},
   "outputs": [
    {
     "data": {
      "text/plain": [
       "array(['C3', 'A5', 'B5', ..., 'A5', 'D2', 'A4'], dtype='<U69')"
      ]
     },
     "execution_count": 68,
     "metadata": {},
     "output_type": "execute_result"
    }
   ],
   "source": [
    "# 'Grade' column is now the fourth column\n",
    "loan_data_strings[:,3]"
   ]
  },
  {
   "cell_type": "code",
   "execution_count": 69,
   "id": "e184addd",
   "metadata": {},
   "outputs": [],
   "source": [
    "# Effect the change in the header\n",
    "header_strings = np.delete(header_strings, 3)"
   ]
  },
  {
   "cell_type": "code",
   "execution_count": 70,
   "id": "4665d7cd",
   "metadata": {},
   "outputs": [
    {
     "data": {
      "text/plain": [
       "'sub_grade'"
      ]
     },
     "execution_count": 70,
     "metadata": {},
     "output_type": "execute_result"
    }
   ],
   "source": [
    "header_strings[3]"
   ]
  },
  {
   "cell_type": "code",
   "execution_count": 71,
   "id": "8cd112f0",
   "metadata": {},
   "outputs": [
    {
     "data": {
      "text/plain": [
       "array(['A1', 'A2', 'A3', 'A4', 'A5', 'B1', 'B2', 'B3', 'B4', 'B5', 'C1', 'C2', 'C3', 'C4', 'C5',\n",
       "       'D1', 'D2', 'D3', 'D4', 'D5', 'E1', 'E2', 'E3', 'E4', 'E5', 'F1', 'F2', 'F3', 'F4', 'F5',\n",
       "       'G1', 'G2', 'G3', 'G4', 'G5', 'H1'], dtype='<U69')"
      ]
     },
     "execution_count": 71,
     "metadata": {},
     "output_type": "execute_result"
    }
   ],
   "source": [
    "# Assign numbers to each of the sub_grade from A1 to H1\n",
    "np.unique(loan_data_strings[:,3])"
   ]
  },
  {
   "cell_type": "code",
   "execution_count": 72,
   "id": "a0434b53",
   "metadata": {},
   "outputs": [],
   "source": [
    "keys = list(np.unique(loan_data_strings[:,3]))\n",
    "values = list(range(1, np.unique(loan_data_strings[:,3]).shape[0] + 1))\n",
    "dict_sub_grade = dict(zip(keys, values))"
   ]
  },
  {
   "cell_type": "code",
   "execution_count": 74,
   "id": "57fcc0fb",
   "metadata": {},
   "outputs": [
    {
     "data": {
      "text/plain": [
       "{'A1': 1,\n",
       " 'A2': 2,\n",
       " 'A3': 3,\n",
       " 'A4': 4,\n",
       " 'A5': 5,\n",
       " 'B1': 6,\n",
       " 'B2': 7,\n",
       " 'B3': 8,\n",
       " 'B4': 9,\n",
       " 'B5': 10,\n",
       " 'C1': 11,\n",
       " 'C2': 12,\n",
       " 'C3': 13,\n",
       " 'C4': 14,\n",
       " 'C5': 15,\n",
       " 'D1': 16,\n",
       " 'D2': 17,\n",
       " 'D3': 18,\n",
       " 'D4': 19,\n",
       " 'D5': 20,\n",
       " 'E1': 21,\n",
       " 'E2': 22,\n",
       " 'E3': 23,\n",
       " 'E4': 24,\n",
       " 'E5': 25,\n",
       " 'F1': 26,\n",
       " 'F2': 27,\n",
       " 'F3': 28,\n",
       " 'F4': 29,\n",
       " 'F5': 30,\n",
       " 'G1': 31,\n",
       " 'G2': 32,\n",
       " 'G3': 33,\n",
       " 'G4': 34,\n",
       " 'G5': 35,\n",
       " 'H1': 36}"
      ]
     },
     "execution_count": 74,
     "metadata": {},
     "output_type": "execute_result"
    }
   ],
   "source": [
    "# The keys above include all the unique sub_grades\n",
    "# The values include all the integers betweeen 1 and 36 that will be assigned to each sub_grade\n",
    "# The zip function is used to create a dictionary that matches these values\n",
    "\n",
    "dict_sub_grade"
   ]
  },
  {
   "cell_type": "code",
   "execution_count": 75,
   "id": "5d6a751e",
   "metadata": {},
   "outputs": [],
   "source": [
    "for i in np.unique(loan_data_strings[:,3]):\n",
    "    loan_data_strings[:,3] = np.where(loan_data_strings[:,3] == i, dict_sub_grade[i],\n",
    "                                      loan_data_strings[:,3])"
   ]
  },
  {
   "cell_type": "code",
   "execution_count": 77,
   "id": "aae1233b",
   "metadata": {},
   "outputs": [
    {
     "data": {
      "text/plain": [
       "array(['1', '10', '11', '12', '13', '14', '15', '16', '17', '18', '19', '2', '20', '21', '22',\n",
       "       '23', '24', '25', '26', '27', '28', '29', '3', '30', '31', '32', '33', '34', '35', '36',\n",
       "       '4', '5', '6', '7', '8', '9'], dtype='<U69')"
      ]
     },
     "execution_count": 77,
     "metadata": {},
     "output_type": "execute_result"
    }
   ],
   "source": [
    "np.unique(loan_data_strings[:,3])"
   ]
  },
  {
   "cell_type": "code",
   "execution_count": 78,
   "id": "51eac8e1",
   "metadata": {},
   "outputs": [
    {
     "data": {
      "text/plain": [
       "array(['Issue_date', 'loan_status', 'term_months', 'sub_grade', 'verification_status', 'url',\n",
       "       'addr_state'], dtype='<U19')"
      ]
     },
     "execution_count": 78,
     "metadata": {},
     "output_type": "execute_result"
    }
   ],
   "source": [
    "# Call header_strings to see the name of the next column\n",
    "header_strings"
   ]
  },
  {
   "cell_type": "code",
   "execution_count": 79,
   "id": "9c5e72d7",
   "metadata": {},
   "outputs": [
    {
     "data": {
      "text/plain": [
       "array(['', 'Not Verified', 'Source Verified', 'Verified'], dtype='<U69')"
      ]
     },
     "execution_count": 79,
     "metadata": {},
     "output_type": "execute_result"
    }
   ],
   "source": [
    "np.unique(loan_data_strings[:,4])"
   ]
  },
  {
   "cell_type": "code",
   "execution_count": 80,
   "id": "2a8e4121",
   "metadata": {},
   "outputs": [],
   "source": [
    "# We assume the missing value is equavalent to 'Not Verified'"
   ]
  },
  {
   "cell_type": "code",
   "execution_count": 81,
   "id": "dd63025e",
   "metadata": {},
   "outputs": [],
   "source": [
    "loan_data_strings[:,4] = np.where((loan_data_strings[:,4] == '') | (loan_data_strings[:,4] == 'Not Verified'),0,1)"
   ]
  },
  {
   "cell_type": "code",
   "execution_count": 82,
   "id": "2db05426",
   "metadata": {},
   "outputs": [
    {
     "data": {
      "text/plain": [
       "array(['0', '1'], dtype='<U69')"
      ]
     },
     "execution_count": 82,
     "metadata": {},
     "output_type": "execute_result"
    }
   ],
   "source": [
    "np.unique(loan_data_strings[:,4])"
   ]
  },
  {
   "cell_type": "code",
   "execution_count": 83,
   "id": "48640b16",
   "metadata": {},
   "outputs": [
    {
     "data": {
      "text/plain": [
       "array(['https://www.lendingclub.com/browse/loanDetail.action?loan_id=12606806',\n",
       "       'https://www.lendingclub.com/browse/loanDetail.action?loan_id=13026045',\n",
       "       'https://www.lendingclub.com/browse/loanDetail.action?loan_id=1312426', ...,\n",
       "       'https://www.lendingclub.com/browse/loanDetail.action?loan_id=8138291',\n",
       "       'https://www.lendingclub.com/browse/loanDetail.action?loan_id=8214572',\n",
       "       'https://www.lendingclub.com/browse/loanDetail.action?loan_id=849994'], dtype='<U69')"
      ]
     },
     "execution_count": 83,
     "metadata": {},
     "output_type": "execute_result"
    }
   ],
   "source": [
    "# The next column is url\n",
    "np.unique(loan_data_strings[:,5])"
   ]
  },
  {
   "cell_type": "code",
   "execution_count": 86,
   "id": "a57bffe8",
   "metadata": {},
   "outputs": [],
   "source": [
    "# The url address is identical to all except loan_id, hence we can strip all leaving only the id array of numbers stored as strings\n",
    "loan_data_strings[:,5] = np.chararray.strip(loan_data_strings[:,5], 'https://www.lendingclub.com/browse/loanDetail.action?loan_id=' )"
   ]
  },
  {
   "cell_type": "code",
   "execution_count": 89,
   "id": "f854628c",
   "metadata": {},
   "outputs": [
    {
     "data": {
      "text/plain": [
       "array(['48010226', '57693261', '59432726', ..., '50415990', '46154151', '66055249'], dtype='<U69')"
      ]
     },
     "execution_count": 89,
     "metadata": {},
     "output_type": "execute_result"
    }
   ],
   "source": [
    "loan_data_strings[:,5]"
   ]
  },
  {
   "cell_type": "code",
   "execution_count": 87,
   "id": "7053da0c",
   "metadata": {},
   "outputs": [
    {
     "data": {
      "text/plain": [
       "array(['id', 'issue_d', 'loan_amnt', 'loan_status', 'funded_amnt', 'term', 'int_rate',\n",
       "       'installment', 'grade', 'sub_grade', 'verification_status', 'url', 'addr_state',\n",
       "       'total_pymnt'], dtype='<U19')"
      ]
     },
     "execution_count": 87,
     "metadata": {},
     "output_type": "execute_result"
    }
   ],
   "source": [
    "# Recall the first column in the full header is called id. Let's check if it is same with the id above\n",
    "\n",
    "header_full"
   ]
  },
  {
   "cell_type": "code",
   "execution_count": 90,
   "id": "bcfac134",
   "metadata": {},
   "outputs": [
    {
     "data": {
      "text/plain": [
       "array([48010226., 57693261., 59432726., ..., 50415990., 46154151., 66055249.])"
      ]
     },
     "execution_count": 90,
     "metadata": {},
     "output_type": "execute_result"
    }
   ],
   "source": [
    "# Check the contents of the id column\n",
    "\n",
    "loan_data_numeric[:,0]"
   ]
  },
  {
   "cell_type": "code",
   "execution_count": 91,
   "id": "d6781cb1",
   "metadata": {},
   "outputs": [
    {
     "data": {
      "text/plain": [
       "array([48010226, 57693261, 59432726, ..., 50415990, 46154151, 66055249])"
      ]
     },
     "execution_count": 91,
     "metadata": {},
     "output_type": "execute_result"
    }
   ],
   "source": [
    "# Check if loan_data_strings[:,5] is same as loan_data_numeric[:,0]\n",
    "# First convert the values into integers\n",
    "loan_data_strings[:,5].astype(dtype = np.int32)"
   ]
  },
  {
   "cell_type": "code",
   "execution_count": 92,
   "id": "4e5af147",
   "metadata": {},
   "outputs": [
    {
     "data": {
      "text/plain": [
       "array([48010226, 57693261, 59432726, ..., 50415990, 46154151, 66055249])"
      ]
     },
     "execution_count": 92,
     "metadata": {},
     "output_type": "execute_result"
    }
   ],
   "source": [
    "loan_data_numeric[:,0].astype(dtype = np.int32)"
   ]
  },
  {
   "cell_type": "code",
   "execution_count": 93,
   "id": "39e1a439",
   "metadata": {},
   "outputs": [
    {
     "data": {
      "text/plain": [
       "True"
      ]
     },
     "execution_count": 93,
     "metadata": {},
     "output_type": "execute_result"
    }
   ],
   "source": [
    "np.array_equal(loan_data_strings[:,5].astype(dtype = np.int32), loan_data_numeric[:,0].astype(dtype = np.int32))"
   ]
  },
  {
   "cell_type": "code",
   "execution_count": 94,
   "id": "17a86b8d",
   "metadata": {},
   "outputs": [],
   "source": [
    "# The fact that the two arrays are identical showed that the url column does not hold any additional information that cannot be extracted in id column\n",
    "# We will then get rid of the url column\n",
    "\n",
    "loan_data_strings = np.delete(loan_data_strings, 5, axis = 1)"
   ]
  },
  {
   "cell_type": "code",
   "execution_count": 95,
   "id": "2a38e71a",
   "metadata": {},
   "outputs": [],
   "source": [
    "# Also delete the url column header\n",
    "header_strings = np.delete(header_strings,5)"
   ]
  },
  {
   "cell_type": "code",
   "execution_count": 96,
   "id": "460ee740",
   "metadata": {},
   "outputs": [
    {
     "data": {
      "text/plain": [
       "array(['CA', 'NY', 'PA', ..., 'CA', 'OH', 'IL'], dtype='<U69')"
      ]
     },
     "execution_count": 96,
     "metadata": {},
     "output_type": "execute_result"
    }
   ],
   "source": [
    "# To confirm it was successfully deleted, call column 5\n",
    "loan_data_strings[:,5]"
   ]
  },
  {
   "cell_type": "code",
   "execution_count": 97,
   "id": "de5bc060",
   "metadata": {},
   "outputs": [
    {
     "data": {
      "text/plain": [
       "array(['Issue_date', 'loan_status', 'term_months', 'sub_grade', 'verification_status',\n",
       "       'addr_state'], dtype='<U19')"
      ]
     },
     "execution_count": 97,
     "metadata": {},
     "output_type": "execute_result"
    }
   ],
   "source": [
    "header_strings"
   ]
  },
  {
   "cell_type": "code",
   "execution_count": 98,
   "id": "3e158ec3",
   "metadata": {},
   "outputs": [],
   "source": [
    "# The last column to work on is addr_state. Change the name to be more relatable\n",
    "\n",
    "header_strings[5] = \"state_address\""
   ]
  },
  {
   "cell_type": "code",
   "execution_count": 99,
   "id": "9a92d872",
   "metadata": {},
   "outputs": [
    {
     "data": {
      "text/plain": [
       "array(['', 'AK', 'AL', 'AR', 'AZ', 'CA', 'CO', 'CT', 'DC', 'DE', 'FL', 'GA', 'HI', 'IL', 'IN',\n",
       "       'KS', 'KY', 'LA', 'MA', 'MD', 'ME', 'MI', 'MN', 'MO', 'MS', 'MT', 'NC', 'ND', 'NE', 'NH',\n",
       "       'NJ', 'NM', 'NV', 'NY', 'OH', 'OK', 'OR', 'PA', 'RI', 'SC', 'SD', 'TN', 'TX', 'UT', 'VA',\n",
       "       'VT', 'WA', 'WI', 'WV', 'WY'], dtype='<U69')"
      ]
     },
     "execution_count": 99,
     "metadata": {},
     "output_type": "execute_result"
    }
   ],
   "source": [
    "# Check the unique values in the state_address column\n",
    "\n",
    "np.unique(loan_data_strings[:,5])"
   ]
  },
  {
   "cell_type": "code",
   "execution_count": 100,
   "id": "aea47dce",
   "metadata": {},
   "outputs": [
    {
     "data": {
      "text/plain": [
       "50"
      ]
     },
     "execution_count": 100,
     "metadata": {},
     "output_type": "execute_result"
    }
   ],
   "source": [
    "# The state_address column showed USA states' abbreviations, and also empty space (missing value)\n",
    "\n",
    "# Checking the size of the array showed 50 unique values which is exactly the number of states in the US\n",
    "np.unique(loan_data_strings[:,5]).size"
   ]
  },
  {
   "cell_type": "code",
   "execution_count": 101,
   "id": "f5dce89f",
   "metadata": {},
   "outputs": [
    {
     "data": {
      "text/plain": [
       "(array(['', 'AK', 'AL', 'AR', 'AZ', 'CA', 'CO', 'CT', 'DC', 'DE', 'FL', 'GA', 'HI', 'IL', 'IN',\n",
       "        'KS', 'KY', 'LA', 'MA', 'MD', 'ME', 'MI', 'MN', 'MO', 'MS', 'MT', 'NC', 'ND', 'NE', 'NH',\n",
       "        'NJ', 'NM', 'NV', 'NY', 'OH', 'OK', 'OR', 'PA', 'RI', 'SC', 'SD', 'TN', 'TX', 'UT', 'VA',\n",
       "        'VT', 'WA', 'WI', 'WV', 'WY'], dtype='<U69'),\n",
       " array([ 500,   26,  119,   74,  220, 1336,  201,  143,   27,   27,  690,  321,   44,  389,  152,\n",
       "          84,   84,  116,  210,  222,   10,  267,  156,  160,   61,   28,  261,   16,   25,   58,\n",
       "         341,   57,  130,  777,  312,   83,  108,  320,   40,  107,   24,  143,  758,   74,  242,\n",
       "          17,  216,  148,   49,   27], dtype=int64))"
      ]
     },
     "execution_count": 101,
     "metadata": {},
     "output_type": "execute_result"
    }
   ],
   "source": [
    "# Checking the number of occurence per state \n",
    "np.unique(loan_data_strings[:,5], return_counts = True)"
   ]
  },
  {
   "cell_type": "code",
   "execution_count": 102,
   "id": "c9d6643c",
   "metadata": {},
   "outputs": [],
   "source": [
    "# States are listed alphabetically in the above output but the number of occurence per state did not follow descending/ascending order\n",
    "# Apply below function to return the counts per state in descending order"
   ]
  },
  {
   "cell_type": "code",
   "execution_count": 103,
   "id": "601c50ef",
   "metadata": {},
   "outputs": [
    {
     "data": {
      "text/plain": [
       "(array(['CA', 'NY', 'TX', 'FL', '', 'IL', 'NJ', 'GA', 'PA', 'OH', 'MI', 'NC', 'VA', 'MD', 'AZ',\n",
       "        'WA', 'MA', 'CO', 'MO', 'MN', 'IN', 'WI', 'CT', 'TN', 'NV', 'AL', 'LA', 'OR', 'SC', 'KY',\n",
       "        'KS', 'OK', 'UT', 'AR', 'MS', 'NH', 'NM', 'WV', 'HI', 'RI', 'MT', 'DE', 'DC', 'WY', 'AK',\n",
       "        'NE', 'SD', 'VT', 'ND', 'ME'], dtype='<U69'),\n",
       " array([1336,  777,  758,  690,  500,  389,  341,  321,  320,  312,  267,  261,  242,  222,  220,\n",
       "         216,  210,  201,  160,  156,  152,  148,  143,  143,  130,  119,  116,  108,  107,   84,\n",
       "          84,   83,   74,   74,   61,   58,   57,   49,   44,   40,   28,   27,   27,   27,   26,\n",
       "          25,   24,   17,   16,   10], dtype=int64))"
      ]
     },
     "execution_count": 103,
     "metadata": {},
     "output_type": "execute_result"
    }
   ],
   "source": [
    "states_names, states_count = np.unique(loan_data_strings[:,5], return_counts = True)\n",
    "states_count_sorted = np.argsort(-states_count)\n",
    "states_names[states_count_sorted], states_count[states_count_sorted]"
   ]
  },
  {
   "cell_type": "code",
   "execution_count": 104,
   "id": "ea2be2a5",
   "metadata": {},
   "outputs": [],
   "source": [
    "# The output above showed most of the account comes from highly populated and wealthy states like CA, NY, TX, and FL\n",
    "# The 500 counts for missing address showed higher number of counts than any of the other 45 states\n",
    "# We have few data for too many states to examine each one individually\n",
    "# Assigning a unque value to each state will allow outliers to have a big influence on the coefficients\n",
    "# The states with fewer applications will be more vulnerable to have their coefficients affected by outliers\n",
    "# To solve the problem, group the states according to common characteristics like geographic location"
   ]
  },
  {
   "cell_type": "code",
   "execution_count": 105,
   "id": "8e0bb555",
   "metadata": {},
   "outputs": [],
   "source": [
    "# Assign zero to missing values\n",
    "loan_data_strings[:,5] = np.where(loan_data_strings[:,5] == '', 0,\n",
    "                                  loan_data_strings[:,5])"
   ]
  },
  {
   "cell_type": "code",
   "execution_count": 110,
   "id": "d218a154",
   "metadata": {},
   "outputs": [],
   "source": [
    "# Now group the states\n",
    "states_west = np.array(['ID', 'MT', 'NV', 'UT', 'WY', 'AK', 'CA', 'HI', 'OR', 'WA', 'AZ', 'CO', 'NM'])\n",
    "states_south = np.array(['OK', 'TX', 'AR', 'LA', 'MS', 'TN', 'AL', 'KY', 'GA', 'FL', 'WV', 'VA', 'NC','SC','DC','MD','DE'])\n",
    "states_midwest = np.array(['ND', 'SD', 'NE', 'KS', 'MN', 'IA', 'MO', 'WI', 'IL', 'MI', 'IN', 'OH'])\n",
    "states_east = np.array(['PA', 'NY', 'VT', 'NH', 'ME', 'MA', 'RI', 'CT', 'NJ'])"
   ]
  },
  {
   "cell_type": "code",
   "execution_count": 111,
   "id": "93371fe7",
   "metadata": {},
   "outputs": [],
   "source": [
    "# Assign 1 to states_west, 2 to states_south, 3 to states_midwest, and 4 to states_east\n",
    "loan_data_strings[:,5] = np.where(np.isin(loan_data_strings[:,5], states_west), 1,\n",
    "                                  loan_data_strings[:,5])\n",
    "loan_data_strings[:,5] = np.where(np.isin(loan_data_strings[:,5], states_south), 2,\n",
    "                                  loan_data_strings[:,5])\n",
    "loan_data_strings[:,5] = np.where(np.isin(loan_data_strings[:,5], states_midwest), 3,\n",
    "                                  loan_data_strings[:,5])\n",
    "loan_data_strings[:,5] = np.where(np.isin(loan_data_strings[:,5], states_east), 4,\n",
    "                                  loan_data_strings[:,5])"
   ]
  },
  {
   "cell_type": "code",
   "execution_count": 112,
   "id": "40c8b561",
   "metadata": {},
   "outputs": [
    {
     "data": {
      "text/plain": [
       "array(['0', '1', '2', '3', '4'], dtype='<U69')"
      ]
     },
     "execution_count": 112,
     "metadata": {},
     "output_type": "execute_result"
    }
   ],
   "source": [
    "# Call the unique values to check if the numbers have been assigned appropriately\n",
    "\n",
    "np.unique(loan_data_strings[:,5])"
   ]
  },
  {
   "cell_type": "code",
   "execution_count": 113,
   "id": "29b1db92",
   "metadata": {},
   "outputs": [],
   "source": [
    "# All string data have been converted into numeric values stored as text"
   ]
  },
  {
   "cell_type": "code",
   "execution_count": 114,
   "id": "fb0cdc43",
   "metadata": {},
   "outputs": [
    {
     "data": {
      "text/plain": [
       "array([['5', '1', '36', '13', '1', '1'],\n",
       "       ['0', '1', '36', '5', '1', '4'],\n",
       "       ['9', '1', '36', '10', '1', '4'],\n",
       "       ...,\n",
       "       ['6', '1', '36', '5', '1', '1'],\n",
       "       ['4', '1', '36', '17', '1', '3'],\n",
       "       ['12', '1', '36', '4', '0', '3']], dtype='<U69')"
      ]
     },
     "execution_count": 114,
     "metadata": {},
     "output_type": "execute_result"
    }
   ],
   "source": [
    "# Convert the data into a format that numpy will recognize as numeric\n",
    "\n",
    "# First display the strings data set\n",
    "\n",
    "loan_data_strings"
   ]
  },
  {
   "cell_type": "code",
   "execution_count": 116,
   "id": "308849d5",
   "metadata": {},
   "outputs": [
    {
     "name": "stderr",
     "output_type": "stream",
     "text": [
      "C:\\Users\\hp pc\\AppData\\Local\\Temp\\ipykernel_4900\\3623372542.py:3: DeprecationWarning: `np.int` is a deprecated alias for the builtin `int`. To silence this warning, use `int` by itself. Doing this will not modify any behavior and is safe. When replacing `np.int`, you may wish to use e.g. `np.int64` or `np.int32` to specify the precision. If you wish to review your current use, check the release note link for additional information.\n",
      "Deprecated in NumPy 1.20; for more details and guidance: https://numpy.org/devdocs/release/1.20.0-notes.html#deprecations\n",
      "  loan_data_strings = loan_data_strings.astype(np.int)\n"
     ]
    },
    {
     "data": {
      "text/plain": [
       "array([[ 5,  1, 36, 13,  1,  1],\n",
       "       [ 0,  1, 36,  5,  1,  4],\n",
       "       [ 9,  1, 36, 10,  1,  4],\n",
       "       ...,\n",
       "       [ 6,  1, 36,  5,  1,  1],\n",
       "       [ 4,  1, 36, 17,  1,  3],\n",
       "       [12,  1, 36,  4,  0,  3]])"
      ]
     },
     "execution_count": 116,
     "metadata": {},
     "output_type": "execute_result"
    }
   ],
   "source": [
    "# Change the strings into integers\n",
    "\n",
    "loan_data_strings = loan_data_strings.astype(np.int)\n",
    "\n",
    "loan_data_strings"
   ]
  },
  {
   "cell_type": "code",
   "execution_count": 117,
   "id": "025798cb",
   "metadata": {},
   "outputs": [],
   "source": [
    "# Create a checkpoint for all the changes made\n",
    "\n",
    "checkpoint_strings = checkpoint(\"checkpoint-strings\", header_strings, loan_data_strings)"
   ]
  },
  {
   "cell_type": "code",
   "execution_count": 118,
   "id": "8f5f0dd0",
   "metadata": {},
   "outputs": [
    {
     "data": {
      "text/plain": [
       "array(['Issue_date', 'loan_status', 'term_months', 'sub_grade', 'verification_status',\n",
       "       'state_address'], dtype='<U19')"
      ]
     },
     "execution_count": 118,
     "metadata": {},
     "output_type": "execute_result"
    }
   ],
   "source": [
    "checkpoint_strings[\"header\"]"
   ]
  },
  {
   "cell_type": "code",
   "execution_count": 119,
   "id": "52dac7d4",
   "metadata": {},
   "outputs": [
    {
     "data": {
      "text/plain": [
       "array([[ 5,  1, 36, 13,  1,  1],\n",
       "       [ 0,  1, 36,  5,  1,  4],\n",
       "       [ 9,  1, 36, 10,  1,  4],\n",
       "       ...,\n",
       "       [ 6,  1, 36,  5,  1,  1],\n",
       "       [ 4,  1, 36, 17,  1,  3],\n",
       "       [12,  1, 36,  4,  0,  3]])"
      ]
     },
     "execution_count": 119,
     "metadata": {},
     "output_type": "execute_result"
    }
   ],
   "source": [
    "checkpoint_strings[\"data\"]"
   ]
  },
  {
   "cell_type": "code",
   "execution_count": 121,
   "id": "2a48be14",
   "metadata": {},
   "outputs": [
    {
     "data": {
      "text/plain": [
       "True"
      ]
     },
     "execution_count": 121,
     "metadata": {},
     "output_type": "execute_result"
    }
   ],
   "source": [
    "# To be 100% sure that the values in the checkpoint are equal to the processed data\n",
    "\n",
    "np.array_equal(checkpoint_strings['data'], loan_data_strings)"
   ]
  },
  {
   "cell_type": "code",
   "execution_count": 122,
   "id": "bed059e7",
   "metadata": {},
   "outputs": [
    {
     "data": {
      "text/plain": [
       "array([[48010226.  ,    35000.  ,    35000.  ,       13.33,     1184.86,     9452.96],\n",
       "       [57693261.  ,    30000.  ,    30000.  , 68616520.  ,      938.57,     4679.7 ],\n",
       "       [59432726.  ,    15000.  ,    15000.  , 68616520.  ,      494.86,     1969.83],\n",
       "       ...,\n",
       "       [50415990.  ,    10000.  ,    10000.  , 68616520.  , 68616520.  ,     2185.64],\n",
       "       [46154151.  , 68616520.  ,    10000.  ,       16.55,      354.3 ,     3199.4 ],\n",
       "       [66055249.  ,    10000.  ,    10000.  , 68616520.  ,      309.97,      301.9 ]])"
      ]
     },
     "execution_count": 122,
     "metadata": {},
     "output_type": "execute_result"
    }
   ],
   "source": [
    "# Next is to clean and preprocess the numeric data\n",
    "\n",
    "loan_data_numeric"
   ]
  },
  {
   "cell_type": "code",
   "execution_count": 123,
   "id": "a567f08a",
   "metadata": {},
   "outputs": [
    {
     "data": {
      "text/plain": [
       "0"
      ]
     },
     "execution_count": 123,
     "metadata": {},
     "output_type": "execute_result"
    }
   ],
   "source": [
    "# First check if there are missing values in the array\n",
    "\n",
    "np.isnan(loan_data_numeric).sum()"
   ]
  },
  {
   "cell_type": "code",
   "execution_count": 124,
   "id": "373e8dd3",
   "metadata": {},
   "outputs": [
    {
     "data": {
      "text/plain": [
       "array(['id', 'loan_amnt', 'funded_amnt', 'int_rate', 'installment', 'total_pymnt'], dtype='<U19')"
      ]
     },
     "execution_count": 124,
     "metadata": {},
     "output_type": "execute_result"
    }
   ],
   "source": [
    "# The output above is zero, hence no missing value\n",
    "# Recall we already used filler values to fill the missing value\n",
    "\n",
    "# Check the headers of the numeric values\n",
    "\n",
    "header_numeric"
   ]
  },
  {
   "cell_type": "code",
   "execution_count": 125,
   "id": "bb4134eb",
   "metadata": {},
   "outputs": [
    {
     "data": {
      "text/plain": [
       "array([False, False, False, ..., False, False, False])"
      ]
     },
     "execution_count": 125,
     "metadata": {},
     "output_type": "execute_result"
    }
   ],
   "source": [
    "# Check each of the columns, to know which contains the filler temporary value used earlier\n",
    "\n",
    "np.isin(loan_data_numeric[:,0], temporary_fill)"
   ]
  },
  {
   "cell_type": "code",
   "execution_count": 126,
   "id": "5cfd1d64",
   "metadata": {},
   "outputs": [
    {
     "data": {
      "text/plain": [
       "0"
      ]
     },
     "execution_count": 126,
     "metadata": {},
     "output_type": "execute_result"
    }
   ],
   "source": [
    "np.isin(loan_data_numeric[:,0], temporary_fill).sum() # The sum() function returns zero as number of times temporary_fill featured in the array"
   ]
  },
  {
   "cell_type": "code",
   "execution_count": 127,
   "id": "8c135527",
   "metadata": {},
   "outputs": [
    {
     "data": {
      "text/plain": [
       "array(['id', 'loan_amnt', 'funded_amnt', 'int_rate', 'installment', 'total_pymnt'], dtype='<U19')"
      ]
     },
     "execution_count": 127,
     "metadata": {},
     "output_type": "execute_result"
    }
   ],
   "source": [
    "# Check the header_numeric again\n",
    "header_numeric"
   ]
  },
  {
   "cell_type": "code",
   "execution_count": 130,
   "id": "3c5c0e45",
   "metadata": {},
   "outputs": [
    {
     "data": {
      "text/plain": [
       "array([[  373332.  ,     1000.  ,     1000.  ,        6.  ,       31.42,        0.  ],\n",
       "       [54015809.19,    15273.46,    15311.04,       16.62,      440.92,     3143.85],\n",
       "       [68616519.  ,    35000.  ,    35000.  ,       28.99,     1372.97,    41913.62]])"
      ]
     },
     "execution_count": 130,
     "metadata": {},
     "output_type": "execute_result"
    }
   ],
   "source": [
    "#The only column where minimum value can be considered worse is the funded_amnt, and others will be considered for maximum \n",
    "#...recorded value\n",
    "# Recall we already stored the min and max values in the temporary_stats variable computed earlier\n",
    "\n",
    "temporary_stats[:, columns_numeric]\n"
   ]
  },
  {
   "cell_type": "code",
   "execution_count": 131,
   "id": "d3004d23",
   "metadata": {},
   "outputs": [
    {
     "data": {
      "text/plain": [
       "array([35000., 30000., 15000., ..., 10000., 10000., 10000.])"
      ]
     },
     "execution_count": 131,
     "metadata": {},
     "output_type": "execute_result"
    }
   ],
   "source": [
    "# The first row in the array above is the temporary min values, the middle row is temporary mean \n",
    "# while the last row is temporary max values\n",
    "\n",
    "# We will be setting the  temporary filler_values to minimum in the funded_amnt column\n",
    "\n",
    "# Check the values in the funded_amnt column\n",
    "\n",
    "loan_data_numeric[:,2]"
   ]
  },
  {
   "cell_type": "code",
   "execution_count": 133,
   "id": "ab55df6b",
   "metadata": {},
   "outputs": [
    {
     "data": {
      "text/plain": [
       "array([35000., 30000., 15000., ..., 10000., 10000., 10000.])"
      ]
     },
     "execution_count": 133,
     "metadata": {},
     "output_type": "execute_result"
    }
   ],
   "source": [
    "# Setting the temporary_fill values to minimum in the funded amount column\n",
    "\n",
    "loan_data_numeric[:,2] = np.where(loan_data_numeric[:,2] == temporary_fill, temporary_stats[0, columns_numeric[2]],\n",
    "                                  loan_data_numeric[:,2])\n",
    "loan_data_numeric[:,2]"
   ]
  },
  {
   "cell_type": "code",
   "execution_count": 137,
   "id": "bd20db59",
   "metadata": {},
   "outputs": [
    {
     "data": {
      "text/plain": [
       "nan"
      ]
     },
     "execution_count": 137,
     "metadata": {},
     "output_type": "execute_result"
    }
   ],
   "source": [
    "# Temporary stat also contain the min, mean, and max of string columns\n",
    "# Display the fourth individual element of temporary min with index of 3, the output is nan because this was stored...\n",
    "#... before the loan status was processed to numeric\n",
    "temporary_stats[0,3]"
   ]
  },
  {
   "cell_type": "code",
   "execution_count": 138,
   "id": "7738c4d0",
   "metadata": {},
   "outputs": [
    {
     "data": {
      "text/plain": [
       "6.0"
      ]
     },
     "execution_count": 138,
     "metadata": {},
     "output_type": "execute_result"
    }
   ],
   "source": [
    "# Checking the min of the fourth numeric column (interest_rate)\n",
    "temporary_stats[0, columns_numeric[3]]"
   ]
  },
  {
   "cell_type": "code",
   "execution_count": 139,
   "id": "9669075b",
   "metadata": {},
   "outputs": [
    {
     "data": {
      "text/plain": [
       "array(['id', 'loan_amnt', 'funded_amnt', 'int_rate', 'installment', 'total_pymnt'], dtype='<U19')"
      ]
     },
     "execution_count": 139,
     "metadata": {},
     "output_type": "execute_result"
    }
   ],
   "source": [
    "# Filling out the remaining numeric columns according to the Head of Data Analytics' casting direction\n",
    "# Set the max values for loan_amount, interest_rate, installment, and total_payment\n",
    "\n",
    "# These appears in column index 1, 3, 4, and 5 in the output below\n",
    "\n",
    "header_numeric"
   ]
  },
  {
   "cell_type": "code",
   "execution_count": 140,
   "id": "a84698ad",
   "metadata": {},
   "outputs": [],
   "source": [
    "# Use 'for loop' function to avoid typing 'where' function four times\n",
    "\n",
    "# This will set temporary_fill values to maximum temporary stats\n",
    "\n",
    "for i in [1,3,4,5]:\n",
    "    loan_data_numeric[:,i] = np.where(loan_data_numeric[:,i] == temporary_fill, temporary_stats[2, columns_numeric[i]], \n",
    "                                     loan_data_numeric[:,i])\n",
    "    "
   ]
  },
  {
   "cell_type": "code",
   "execution_count": 141,
   "id": "f86a3db6",
   "metadata": {},
   "outputs": [
    {
     "data": {
      "text/plain": [
       "array([[48010226.  ,    35000.  ,    35000.  ,       13.33,     1184.86,     9452.96],\n",
       "       [57693261.  ,    30000.  ,    30000.  ,       28.99,      938.57,     4679.7 ],\n",
       "       [59432726.  ,    15000.  ,    15000.  ,       28.99,      494.86,     1969.83],\n",
       "       ...,\n",
       "       [50415990.  ,    10000.  ,    10000.  ,       28.99,     1372.97,     2185.64],\n",
       "       [46154151.  ,    35000.  ,    10000.  ,       16.55,      354.3 ,     3199.4 ],\n",
       "       [66055249.  ,    10000.  ,    10000.  ,       28.99,      309.97,      301.9 ]])"
      ]
     },
     "execution_count": 141,
     "metadata": {},
     "output_type": "execute_result"
    }
   ],
   "source": [
    "loan_data_numeric"
   ]
  },
  {
   "cell_type": "code",
   "execution_count": 144,
   "id": "be395589",
   "metadata": {},
   "outputs": [
    {
     "data": {
      "text/plain": [
       "array([[ nan,  nan,  nan,  nan,  nan],\n",
       "       [1.21, 1.21, 1.11, 1.13, 0.  ],\n",
       "       [1.13, 1.15, 1.12, 1.12, 0.  ],\n",
       "       [1.12, 1.12, 1.05, 1.08, 0.  ],\n",
       "       [1.07, 1.12, 1.05, 1.11, 0.  ],\n",
       "       [1.12, 1.15, 1.08, 1.1 , 0.  ],\n",
       "       [1.1 , 1.14, 1.09, 1.12, 0.  ],\n",
       "       [1.11, 1.12, 1.08, 1.09, 0.  ],\n",
       "       [1.1 , 1.17, 1.09, 1.13, 0.  ],\n",
       "       [1.12, 1.15, 1.11, 1.13, 0.  ],\n",
       "       [1.12, 1.15, 1.09, 1.1 , 0.  ],\n",
       "       [1.1 , 1.11, 1.06, 1.06, 0.  ],\n",
       "       [1.06, 1.11, 1.05, 1.09, 0.  ]])"
      ]
     },
     "execution_count": 144,
     "metadata": {},
     "output_type": "execute_result"
    }
   ],
   "source": [
    "# Convert the exchange rate from USD to Euro\n",
    "\n",
    "# Import exchange rate converter file \n",
    "\n",
    "EUR_USD = np.genfromtxt(\"EUR-USD.csv\", delimiter = ',', autostrip = True)\n",
    "EUR_USD"
   ]
  },
  {
   "cell_type": "code",
   "execution_count": 145,
   "id": "167cd3d7",
   "metadata": {},
   "outputs": [
    {
     "data": {
      "text/plain": [
       "array([['Open', 'High', 'Low', 'Close', 'Volume'],\n",
       "       ['1.2098628282546997', '1.2098628282546997', '1.11055588722229', '1.1287955045700073', '0'],\n",
       "       ['1.1287955045700073', '1.1484194993972778', '1.117680549621582', '1.1205360889434814',\n",
       "        '0'],\n",
       "       ['1.119795799255371', '1.1240400075912476', '1.0460032224655151', '1.0830246210098267',\n",
       "        '0'],\n",
       "       ['1.0741022825241089', '1.1247594356536865', '1.0521597862243652', '1.1114321947097778',\n",
       "        '0'],\n",
       "       ['1.1215037107467651', '1.145304799079895', '1.0821995735168457', '1.0960345268249512',\n",
       "        '0'],\n",
       "       ['1.095902442932129', '1.1428401470184326', '1.0888904333114624', '1.122296690940857', '0'],\n",
       "       ['1.1134989261627197', '1.1219995021820068', '1.081270456314087', '1.0939244031906128',\n",
       "        '0'],\n",
       "       ['1.0969001054763794', '1.1705996990203857', '1.0850305557250977', '1.1340054273605347',\n",
       "        '0'],\n",
       "       ['1.1225990056991577', '1.1460003852844238', '1.1089695692062378', '1.1255937814712524',\n",
       "        '0'],\n",
       "       ['1.1171561479568481', '1.1494200229644775', '1.0910003185272217', '1.100897192955017',\n",
       "        '0'],\n",
       "       ['1.1024993658065796', '1.1060001850128174', '1.056400179862976', '1.0583018064498901',\n",
       "        '0'],\n",
       "       ['1.0572947263717651', '1.107000470161438', '1.0541995763778687', '1.093398094177246', '0']],\n",
       "      dtype='<U18')"
      ]
     },
     "execution_count": 145,
     "metadata": {},
     "output_type": "execute_result"
    }
   ],
   "source": [
    "# The output above showed nan in the first row which will probably be the names of the column. Set the datatype to strings\n",
    "\n",
    "EUR_USD = np.genfromtxt(\"EUR-USD.csv\", delimiter = ',', autostrip = True, dtype = str)\n",
    "EUR_USD"
   ]
  },
  {
   "cell_type": "code",
   "execution_count": 146,
   "id": "33dbd71d",
   "metadata": {},
   "outputs": [
    {
     "data": {
      "text/plain": [
       "array([1.13, 1.12, 1.08, 1.11, 1.1 , 1.12, 1.09, 1.13, 1.13, 1.1 , 1.06, 1.09])"
      ]
     },
     "execution_count": 146,
     "metadata": {},
     "output_type": "execute_result"
    }
   ],
   "source": [
    "# Each column above represents 'Open', 'High', 'Close', and 'Volume'.\n",
    "# We are interested in only the adjusted closing price, hence we will limit the data to the fourth column (index 3)\n",
    "\n",
    "EUR_USD = np.genfromtxt(\"EUR-USD.csv\", delimiter = ',', autostrip = True, skip_header = 1, usecols = 3)\n",
    "EUR_USD"
   ]
  },
  {
   "cell_type": "code",
   "execution_count": 147,
   "id": "66ed52e1",
   "metadata": {},
   "outputs": [
    {
     "data": {
      "text/plain": [
       "'Issue_date'"
      ]
     },
     "execution_count": 147,
     "metadata": {},
     "output_type": "execute_result"
    }
   ],
   "source": [
    "# Setting exchange rates for the different months\n",
    "\n",
    "# Recall the date (in months) is in the first column\n",
    "header_strings[0]"
   ]
  },
  {
   "cell_type": "code",
   "execution_count": 148,
   "id": "8807d2b2",
   "metadata": {},
   "outputs": [
    {
     "data": {
      "text/plain": [
       "array([ 5,  0,  9, ...,  6,  4, 12])"
      ]
     },
     "execution_count": 148,
     "metadata": {},
     "output_type": "execute_result"
    }
   ],
   "source": [
    "# The output below are the numbers representing months from missing (0) to december (12)\n",
    "loan_data_strings[:,0]"
   ]
  },
  {
   "cell_type": "code",
   "execution_count": 151,
   "id": "db791607",
   "metadata": {},
   "outputs": [
    {
     "data": {
      "text/plain": [
       "array([1.1 , 1.11, 1.13, ..., 1.12, 1.11, 1.09])"
      ]
     },
     "execution_count": 151,
     "metadata": {},
     "output_type": "execute_result"
    }
   ],
   "source": [
    "# Using loop to set the exchange rate for each month\n",
    "\n",
    "exchange_rate = loan_data_strings[:,0]\n",
    "\n",
    "for i in range(1,13):\n",
    "    exchange_rate = np.where(exchange_rate == i, EUR_USD[i-1], exchange_rate)\n",
    "    \n",
    "# For the missing month 0, exchange rate will be the mean \n",
    "\n",
    "exchange_rate = np.where(exchange_rate == 0, np.mean(EUR_USD), exchange_rate)\n",
    "\n",
    "exchange_rate"
   ]
  },
  {
   "cell_type": "code",
   "execution_count": 153,
   "id": "5def7d17",
   "metadata": {},
   "outputs": [
    {
     "data": {
      "text/plain": [
       "(10000,)"
      ]
     },
     "execution_count": 153,
     "metadata": {},
     "output_type": "execute_result"
    }
   ],
   "source": [
    "# We need to add this new array to the dataset\n",
    "# we need to check if the new variable and the loan_data_numeric have compatible shape\n",
    "\n",
    "exchange_rate.shape"
   ]
  },
  {
   "cell_type": "code",
   "execution_count": 154,
   "id": "b18c3355",
   "metadata": {},
   "outputs": [
    {
     "data": {
      "text/plain": [
       "(10000, 6)"
      ]
     },
     "execution_count": 154,
     "metadata": {},
     "output_type": "execute_result"
    }
   ],
   "source": [
    "loan_data_numeric.shape"
   ]
  },
  {
   "cell_type": "code",
   "execution_count": 155,
   "id": "3bd46f51",
   "metadata": {},
   "outputs": [],
   "source": [
    "# The shape of exchange_rate is 1-dimensional while numeric dataset is 2-dimensional\n",
    "# Reshape exchange rate to 2-D\n",
    "\n",
    "exchange_rate = np.reshape(exchange_rate, (10000,1))"
   ]
  },
  {
   "cell_type": "code",
   "execution_count": 156,
   "id": "78fae940",
   "metadata": {},
   "outputs": [
    {
     "data": {
      "text/plain": [
       "array([[48010226.  ,    35000.  ,    35000.  , ...,     1184.86,     9452.96,        1.1 ],\n",
       "       [57693261.  ,    30000.  ,    30000.  , ...,      938.57,     4679.7 ,        1.11],\n",
       "       [59432726.  ,    15000.  ,    15000.  , ...,      494.86,     1969.83,        1.13],\n",
       "       ...,\n",
       "       [50415990.  ,    10000.  ,    10000.  , ...,     1372.97,     2185.64,        1.12],\n",
       "       [46154151.  ,    35000.  ,    10000.  , ...,      354.3 ,     3199.4 ,        1.11],\n",
       "       [66055249.  ,    10000.  ,    10000.  , ...,      309.97,      301.9 ,        1.09]])"
      ]
     },
     "execution_count": 156,
     "metadata": {},
     "output_type": "execute_result"
    }
   ],
   "source": [
    "# Use horizontal stacking function, hstack\n",
    "\n",
    "np.hstack((loan_data_numeric, exchange_rate))"
   ]
  },
  {
   "cell_type": "code",
   "execution_count": 157,
   "id": "39b9758c",
   "metadata": {},
   "outputs": [],
   "source": [
    "loan_data_numeric = np.hstack((loan_data_numeric, exchange_rate))"
   ]
  },
  {
   "cell_type": "code",
   "execution_count": 159,
   "id": "326dc5e8",
   "metadata": {},
   "outputs": [
    {
     "data": {
      "text/plain": [
       "array(['id', 'loan_amnt', 'funded_amnt', 'int_rate', 'installment', 'total_pymnt', 'exchange_rate'],\n",
       "      dtype='<U19')"
      ]
     },
     "execution_count": 159,
     "metadata": {},
     "output_type": "execute_result"
    }
   ],
   "source": [
    "# Add the new exchange rate column to the header\n",
    "\n",
    "header_numeric = np.concatenate((header_numeric, np.array(['exchange_rate'])))\n",
    "header_numeric"
   ]
  },
  {
   "cell_type": "code",
   "execution_count": 160,
   "id": "c45934cb",
   "metadata": {},
   "outputs": [
    {
     "data": {
      "text/plain": [
       "array([[[35000.  , 35000.  ,  1184.86,  9452.96]],\n",
       "\n",
       "       [[30000.  , 30000.  ,   938.57,  4679.7 ]],\n",
       "\n",
       "       [[15000.  , 15000.  ,   494.86,  1969.83]],\n",
       "\n",
       "       ...,\n",
       "\n",
       "       [[10000.  , 10000.  ,  1372.97,  2185.64]],\n",
       "\n",
       "       [[35000.  , 10000.  ,   354.3 ,  3199.4 ]],\n",
       "\n",
       "       [[10000.  , 10000.  ,   309.97,   301.9 ]]])"
      ]
     },
     "execution_count": 160,
     "metadata": {},
     "output_type": "execute_result"
    }
   ],
   "source": [
    "# Four columns contains values in US dollars; loan_amnt, funded-amnt, installment, and total_pymnt\n",
    "\n",
    "columns_dollar = np.array([1,2,4,5])\n",
    "\n",
    "loan_data_numeric[:, [columns_dollar]]"
   ]
  },
  {
   "cell_type": "code",
   "execution_count": 164,
   "id": "28160021",
   "metadata": {},
   "outputs": [],
   "source": [
    "# Exchange rate is in loan_data_numeric[:,6]\n",
    "# Divide by the exchange rate to get the value in Euro\n",
    "# Reshape the exchange rate to similar 2-Dimension\n",
    " \n",
    "for i in columns_dollar:\n",
    "    loan_data_numeric = np.hstack((loan_data_numeric, np.reshape(loan_data_numeric[:,i] / \n",
    "                                                                 loan_data_numeric[:,6], (10000, 1))))"
   ]
  },
  {
   "cell_type": "code",
   "execution_count": 165,
   "id": "ad8bd332",
   "metadata": {},
   "outputs": [
    {
     "data": {
      "text/plain": [
       "array([[48010226.  ,    35000.  ,    35000.  , ...,    31933.3 ,     1081.04,     8624.69],\n",
       "       [57693261.  ,    30000.  ,    30000.  , ...,    27132.46,      848.86,     4232.39],\n",
       "       [59432726.  ,    15000.  ,    15000.  , ...,    13326.3 ,      439.64,     1750.04],\n",
       "       ...,\n",
       "       [50415990.  ,    10000.  ,    10000.  , ...,     8910.3 ,     1223.36,     1947.47],\n",
       "       [46154151.  ,    35000.  ,    10000.  , ...,     8997.4 ,      318.78,     2878.63],\n",
       "       [66055249.  ,    10000.  ,    10000.  , ...,     9145.8 ,      283.49,      276.11]])"
      ]
     },
     "execution_count": 165,
     "metadata": {},
     "output_type": "execute_result"
    }
   ],
   "source": [
    "loan_data_numeric"
   ]
  },
  {
   "cell_type": "code",
   "execution_count": 167,
   "id": "1b80b745",
   "metadata": {},
   "outputs": [
    {
     "data": {
      "text/plain": [
       "(10000, 11)"
      ]
     },
     "execution_count": 167,
     "metadata": {},
     "output_type": "execute_result"
    }
   ],
   "source": [
    "# To check if we have new columns to the array\n",
    "# The output is 10000 by 11 array\n",
    "loan_data_numeric.shape"
   ]
  },
  {
   "cell_type": "code",
   "execution_count": 168,
   "id": "6d781d92",
   "metadata": {},
   "outputs": [],
   "source": [
    "# We need to update the header since there are new columns to the dataset\n",
    "\n",
    "header_additional = np.array([column_name + '_EUR' for column_name in header_numeric[columns_dollar]])"
   ]
  },
  {
   "cell_type": "code",
   "execution_count": 169,
   "id": "b68e9960",
   "metadata": {},
   "outputs": [
    {
     "data": {
      "text/plain": [
       "array(['loan_amnt_EUR', 'funded_amnt_EUR', 'installment_EUR', 'total_pymnt_EUR'], dtype='<U15')"
      ]
     },
     "execution_count": 169,
     "metadata": {},
     "output_type": "execute_result"
    }
   ],
   "source": [
    "header_additional"
   ]
  },
  {
   "cell_type": "code",
   "execution_count": 171,
   "id": "8383abd7",
   "metadata": {},
   "outputs": [],
   "source": [
    "# Add the additional header to header numeric\n",
    "\n",
    "header_numeric = np.concatenate((header_numeric, header_additional ))"
   ]
  },
  {
   "cell_type": "code",
   "execution_count": 172,
   "id": "2b8f636b",
   "metadata": {},
   "outputs": [
    {
     "data": {
      "text/plain": [
       "array(['id', 'loan_amnt', 'funded_amnt', 'int_rate', 'installment', 'total_pymnt', 'exchange_rate',\n",
       "       'loan_amnt_EUR', 'funded_amnt_EUR', 'installment_EUR', 'total_pymnt_EUR'], dtype='<U19')"
      ]
     },
     "execution_count": 172,
     "metadata": {},
     "output_type": "execute_result"
    }
   ],
   "source": [
    "header_numeric"
   ]
  },
  {
   "cell_type": "code",
   "execution_count": 173,
   "id": "d9dd019f",
   "metadata": {},
   "outputs": [
    {
     "data": {
      "text/plain": [
       "array(['id', 'loan_amnt_USD', 'funded_amnt_USD', 'int_rate', 'installment_USD', 'total_pymnt_USD',\n",
       "       'exchange_rate', 'loan_amnt_EUR', 'funded_amnt_EUR', 'installment_EUR', 'total_pymnt_EUR'],\n",
       "      dtype='<U19')"
      ]
     },
     "execution_count": 173,
     "metadata": {},
     "output_type": "execute_result"
    }
   ],
   "source": [
    "# Update the default columns to show they are in USD\n",
    "\n",
    "header_numeric[columns_dollar] = np.array([column_name + '_USD' for column_name in header_numeric[columns_dollar]])\n",
    "\n",
    "header_numeric"
   ]
  },
  {
   "cell_type": "code",
   "execution_count": 175,
   "id": "04c23655",
   "metadata": {},
   "outputs": [
    {
     "data": {
      "text/plain": [
       "array(['id', 'loan_amnt_USD', 'loan_amnt_EUR', 'funded_amnt_USD', 'funded_amnt_EUR', 'int_rate',\n",
       "       'installment_USD', 'installment_EUR', 'total_pymnt_USD', 'total_pymnt_EUR', 'exchange_rate'],\n",
       "      dtype='<U19')"
      ]
     },
     "execution_count": 175,
     "metadata": {},
     "output_type": "execute_result"
    }
   ],
   "source": [
    "# Rearrange the columns so that each Euro column follows its corresponding USD column\n",
    "\n",
    "columns_index_order = [0,1,7,2,8,3,4,9,5,10,6]\n",
    "\n",
    "header_numeric[columns_index_order]"
   ]
  },
  {
   "cell_type": "code",
   "execution_count": 176,
   "id": "b850c4c1",
   "metadata": {},
   "outputs": [],
   "source": [
    "header_numeric = header_numeric[columns_index_order]"
   ]
  },
  {
   "cell_type": "code",
   "execution_count": 177,
   "id": "e71fa882",
   "metadata": {},
   "outputs": [],
   "source": [
    "# Set loan_data_numeric in the same index order\n",
    "\n",
    "loan_data_numeric = loan_data_numeric[:, columns_index_order]"
   ]
  },
  {
   "cell_type": "code",
   "execution_count": 178,
   "id": "c232f71d",
   "metadata": {},
   "outputs": [
    {
     "data": {
      "text/plain": [
       "array([[48010226.  ,    35000.  ,    31933.3 , ...,     9452.96,     8624.69,        1.1 ],\n",
       "       [57693261.  ,    30000.  ,    27132.46, ...,     4679.7 ,     4232.39,        1.11],\n",
       "       [59432726.  ,    15000.  ,    13326.3 , ...,     1969.83,     1750.04,        1.13],\n",
       "       ...,\n",
       "       [50415990.  ,    10000.  ,     8910.3 , ...,     2185.64,     1947.47,        1.12],\n",
       "       [46154151.  ,    35000.  ,    31490.9 , ...,     3199.4 ,     2878.63,        1.11],\n",
       "       [66055249.  ,    10000.  ,     9145.8 , ...,      301.9 ,      276.11,        1.09]])"
      ]
     },
     "execution_count": 178,
     "metadata": {},
     "output_type": "execute_result"
    }
   ],
   "source": [
    "loan_data_numeric"
   ]
  },
  {
   "cell_type": "code",
   "execution_count": 179,
   "id": "a578abc0",
   "metadata": {},
   "outputs": [
    {
     "data": {
      "text/plain": [
       "array(['id', 'loan_amnt_USD', 'loan_amnt_EUR', 'funded_amnt_USD', 'funded_amnt_EUR', 'int_rate',\n",
       "       'installment_USD', 'installment_EUR', 'total_pymnt_USD', 'total_pymnt_EUR', 'exchange_rate'],\n",
       "      dtype='<U19')"
      ]
     },
     "execution_count": 179,
     "metadata": {},
     "output_type": "execute_result"
    }
   ],
   "source": [
    "# All missing values have been filled, and exchange rates added for each applicant\n",
    "# The only column remaining is the interest rate\n",
    "\n",
    "header_numeric"
   ]
  },
  {
   "cell_type": "code",
   "execution_count": 180,
   "id": "f61b31ca",
   "metadata": {},
   "outputs": [
    {
     "data": {
      "text/plain": [
       "array([13.33, 28.99, 28.99, ..., 28.99, 16.55, 28.99])"
      ]
     },
     "execution_count": 180,
     "metadata": {},
     "output_type": "execute_result"
    }
   ],
   "source": [
    "loan_data_numeric[:,5]"
   ]
  },
  {
   "cell_type": "code",
   "execution_count": 182,
   "id": "03b0abb5",
   "metadata": {},
   "outputs": [
    {
     "data": {
      "text/plain": [
       "array([0.13, 0.29, 0.29, ..., 0.29, 0.17, 0.29])"
      ]
     },
     "execution_count": 182,
     "metadata": {},
     "output_type": "execute_result"
    }
   ],
   "source": [
    "# Transform the interest rate column for the values to be between 0 and 1\n",
    "\n",
    "loan_data_numeric[:,5] = loan_data_numeric[:,5]/100\n",
    "loan_data_numeric[:,5]"
   ]
  },
  {
   "cell_type": "code",
   "execution_count": 183,
   "id": "d6f83c87",
   "metadata": {},
   "outputs": [],
   "source": [
    "# Create a checkpoint for all the preprocessed numeric values \n",
    "\n",
    "checkpoint_numeric = checkpoint(\"checkpoint-numeric\", header_numeric, loan_data_numeric)"
   ]
  },
  {
   "cell_type": "code",
   "execution_count": 184,
   "id": "dba9ddca",
   "metadata": {},
   "outputs": [
    {
     "data": {
      "text/plain": [
       "(array(['id', 'loan_amnt_USD', 'loan_amnt_EUR', 'funded_amnt_USD', 'funded_amnt_EUR', 'int_rate',\n",
       "        'installment_USD', 'installment_EUR', 'total_pymnt_USD', 'total_pymnt_EUR', 'exchange_rate'],\n",
       "       dtype='<U19'),\n",
       " array([[48010226.  ,    35000.  ,    31933.3 , ...,     9452.96,     8624.69,        1.1 ],\n",
       "        [57693261.  ,    30000.  ,    27132.46, ...,     4679.7 ,     4232.39,        1.11],\n",
       "        [59432726.  ,    15000.  ,    13326.3 , ...,     1969.83,     1750.04,        1.13],\n",
       "        ...,\n",
       "        [50415990.  ,    10000.  ,     8910.3 , ...,     2185.64,     1947.47,        1.12],\n",
       "        [46154151.  ,    35000.  ,    31490.9 , ...,     3199.4 ,     2878.63,        1.11],\n",
       "        [66055249.  ,    10000.  ,     9145.8 , ...,      301.9 ,      276.11,        1.09]]))"
      ]
     },
     "execution_count": 184,
     "metadata": {},
     "output_type": "execute_result"
    }
   ],
   "source": [
    "checkpoint_numeric['header'], checkpoint_numeric['data']"
   ]
  },
  {
   "cell_type": "code",
   "execution_count": 185,
   "id": "82a182b6",
   "metadata": {},
   "outputs": [
    {
     "data": {
      "text/plain": [
       "(10000, 6)"
      ]
     },
     "execution_count": 185,
     "metadata": {},
     "output_type": "execute_result"
    }
   ],
   "source": [
    "# Combine the preprocessed versions of the string and numeric matrices to create a large dataset\n",
    "# The two arrays must have compatible shapes\n",
    "\n",
    "checkpoint_strings['data'].shape # the output is 10000 rows and 6 columns"
   ]
  },
  {
   "cell_type": "code",
   "execution_count": 186,
   "id": "5501cf65",
   "metadata": {},
   "outputs": [
    {
     "data": {
      "text/plain": [
       "(10000, 11)"
      ]
     },
     "execution_count": 186,
     "metadata": {},
     "output_type": "execute_result"
    }
   ],
   "source": [
    "checkpoint_numeric['data'].shape # the output is 10000 rows and 11 columns"
   ]
  },
  {
   "cell_type": "code",
   "execution_count": 187,
   "id": "a9f18bc0",
   "metadata": {},
   "outputs": [
    {
     "data": {
      "text/plain": [
       "array([[48010226.  ,    35000.  ,    31933.3 , ...,       13.  ,        1.  ,        1.  ],\n",
       "       [57693261.  ,    30000.  ,    27132.46, ...,        5.  ,        1.  ,        4.  ],\n",
       "       [59432726.  ,    15000.  ,    13326.3 , ...,       10.  ,        1.  ,        4.  ],\n",
       "       ...,\n",
       "       [50415990.  ,    10000.  ,     8910.3 , ...,        5.  ,        1.  ,        1.  ],\n",
       "       [46154151.  ,    35000.  ,    31490.9 , ...,       17.  ,        1.  ,        3.  ],\n",
       "       [66055249.  ,    10000.  ,     9145.8 , ...,        4.  ,        0.  ,        3.  ]])"
      ]
     },
     "execution_count": 187,
     "metadata": {},
     "output_type": "execute_result"
    }
   ],
   "source": [
    "# We can stack side by side since they have the same number of rows\n",
    "\n",
    "np.hstack((checkpoint_numeric['data'], checkpoint_strings['data']))"
   ]
  },
  {
   "cell_type": "code",
   "execution_count": 188,
   "id": "7a39e2f5",
   "metadata": {},
   "outputs": [
    {
     "data": {
      "text/plain": [
       "(10000, 17)"
      ]
     },
     "execution_count": 188,
     "metadata": {},
     "output_type": "execute_result"
    }
   ],
   "source": [
    "# To check if the output is correct\n",
    "\n",
    "np.hstack((checkpoint_numeric['data'], checkpoint_strings['data'])).shape # 17 columns: 6 from strings and 11 from numeric"
   ]
  },
  {
   "cell_type": "code",
   "execution_count": 190,
   "id": "aea71d10",
   "metadata": {},
   "outputs": [
    {
     "data": {
      "text/plain": [
       "array([[48010226.  ,    35000.  ,    31933.3 , ...,       13.  ,        1.  ,        1.  ],\n",
       "       [57693261.  ,    30000.  ,    27132.46, ...,        5.  ,        1.  ,        4.  ],\n",
       "       [59432726.  ,    15000.  ,    13326.3 , ...,       10.  ,        1.  ,        4.  ],\n",
       "       ...,\n",
       "       [50415990.  ,    10000.  ,     8910.3 , ...,        5.  ,        1.  ,        1.  ],\n",
       "       [46154151.  ,    35000.  ,    31490.9 , ...,       17.  ,        1.  ,        3.  ],\n",
       "       [66055249.  ,    10000.  ,     9145.8 , ...,        4.  ,        0.  ,        3.  ]])"
      ]
     },
     "execution_count": 190,
     "metadata": {},
     "output_type": "execute_result"
    }
   ],
   "source": [
    "# Store the output in a new variable \n",
    "\n",
    "loan_data = np.hstack((checkpoint_numeric['data'], checkpoint_strings['data']))\n",
    "\n",
    "loan_data"
   ]
  },
  {
   "cell_type": "code",
   "execution_count": 191,
   "id": "d6e37edb",
   "metadata": {},
   "outputs": [
    {
     "data": {
      "text/plain": [
       "0"
      ]
     },
     "execution_count": 191,
     "metadata": {},
     "output_type": "execute_result"
    }
   ],
   "source": [
    "# Confirm there is no missing value in the array\n",
    "# The 0 output confirmed the preprocessing was done correctly\n",
    "\n",
    "np.isnan(loan_data).sum()"
   ]
  },
  {
   "cell_type": "code",
   "execution_count": 193,
   "id": "7f22349a",
   "metadata": {},
   "outputs": [
    {
     "data": {
      "text/plain": [
       "array(['id', 'loan_amnt_USD', 'loan_amnt_EUR', 'funded_amnt_USD', 'funded_amnt_EUR', 'int_rate',\n",
       "       'installment_USD', 'installment_EUR', 'total_pymnt_USD', 'total_pymnt_EUR', 'exchange_rate',\n",
       "       'Issue_date', 'loan_status', 'term_months', 'sub_grade', 'verification_status',\n",
       "       'state_address'], dtype='<U19')"
      ]
     },
     "execution_count": 193,
     "metadata": {},
     "output_type": "execute_result"
    }
   ],
   "source": [
    "# Combine the headers of the two array\n",
    "\n",
    "header_full = np.concatenate((checkpoint_numeric['header'], checkpoint_strings['header']))\n",
    "\n",
    "header_full"
   ]
  },
  {
   "cell_type": "code",
   "execution_count": 194,
   "id": "43e738f7",
   "metadata": {},
   "outputs": [
    {
     "data": {
      "text/plain": [
       "array([48010226., 57693261., 59432726., ..., 50415990., 46154151., 66055249.])"
      ]
     },
     "execution_count": 194,
     "metadata": {},
     "output_type": "execute_result"
    }
   ],
   "source": [
    "# Its a good practice to arrange all the entries according to index variable which is the id\n",
    "loan_data[:,0]"
   ]
  },
  {
   "cell_type": "code",
   "execution_count": 195,
   "id": "b54488b9",
   "metadata": {},
   "outputs": [
    {
     "data": {
      "text/plain": [
       "array([[  373332.  ,     9950.  ,     9038.08, ...,       21.  ,        0.  ,        1.  ],\n",
       "       [  575239.  ,    12000.  ,    10900.2 , ...,       25.  ,        1.  ,        2.  ],\n",
       "       [  707689.  ,    10000.  ,     8924.3 , ...,       13.  ,        1.  ,        0.  ],\n",
       "       ...,\n",
       "       [68614880.  ,     5600.  ,     5121.65, ...,        8.  ,        1.  ,        1.  ],\n",
       "       [68615915.  ,     4000.  ,     3658.32, ...,       10.  ,        1.  ,        2.  ],\n",
       "       [68616519.  ,    21600.  ,    19754.93, ...,        3.  ,        0.  ,        2.  ]])"
      ]
     },
     "execution_count": 195,
     "metadata": {},
     "output_type": "execute_result"
    }
   ],
   "source": [
    "loan_data = loan_data[np.argsort(loan_data[:,0])]\n",
    "loan_data"
   ]
  },
  {
   "cell_type": "code",
   "execution_count": 196,
   "id": "2ea1aa8d",
   "metadata": {},
   "outputs": [
    {
     "data": {
      "text/plain": [
       "array([   0,    1,    2, ..., 9997, 9998, 9999], dtype=int64)"
      ]
     },
     "execution_count": 196,
     "metadata": {},
     "output_type": "execute_result"
    }
   ],
   "source": [
    "np.argsort(loan_data[:,0]) # The output showed it was sorted"
   ]
  },
  {
   "cell_type": "code",
   "execution_count": 198,
   "id": "ff43e368",
   "metadata": {},
   "outputs": [
    {
     "data": {
      "text/plain": [
       "array([['id', 'loan_amnt_USD', 'loan_amnt_EUR', ..., 'sub_grade', 'verification_status',\n",
       "        'state_address'],\n",
       "       ['373332.0', '9950.0', '9038.082814338286', ..., '21.0', '0.0', '1.0'],\n",
       "       ['575239.0', '12000.0', '10900.20037910145', ..., '25.0', '1.0', '2.0'],\n",
       "       ...,\n",
       "       ['68614880.0', '5600.0', '5121.647851612413', ..., '8.0', '1.0', '1.0'],\n",
       "       ['68615915.0', '4000.0', '3658.319894008867', ..., '10.0', '1.0', '2.0'],\n",
       "       ['68616519.0', '21600.0', '19754.927427647883', ..., '3.0', '0.0', '2.0']], dtype='<U32')"
      ]
     },
     "execution_count": 198,
     "metadata": {},
     "output_type": "execute_result"
    }
   ],
   "source": [
    "# Stack the header on top of the sorted data\n",
    "loan_data = np.vstack((header_full, loan_data))\n",
    "\n",
    "loan_data"
   ]
  },
  {
   "cell_type": "code",
   "execution_count": 199,
   "id": "97577bee",
   "metadata": {},
   "outputs": [],
   "source": [
    "# Finally, save the new dataset \n",
    "\n",
    "np.savetxt(\"loan-data-preprocessed.csv\", loan_data,\n",
    "          fmt = \"%s\", delimiter = ',')                 #This will be saved externally in the directory of the Python app"
   ]
  },
  {
   "cell_type": "code",
   "execution_count": null,
   "id": "88fa650a",
   "metadata": {},
   "outputs": [],
   "source": [
    "# The dataset is now cleaned, preprocessed, and ready for further analysis\n",
    "# The data science team can take this dataset and prepare a credit risk model (CRM) for estimating probability of default"
   ]
  }
 ],
 "metadata": {
  "kernelspec": {
   "display_name": "Python 3 (ipykernel)",
   "language": "python",
   "name": "python3"
  },
  "language_info": {
   "codemirror_mode": {
    "name": "ipython",
    "version": 3
   },
   "file_extension": ".py",
   "mimetype": "text/x-python",
   "name": "python",
   "nbconvert_exporter": "python",
   "pygments_lexer": "ipython3",
   "version": "3.9.13"
  }
 },
 "nbformat": 4,
 "nbformat_minor": 5
}
